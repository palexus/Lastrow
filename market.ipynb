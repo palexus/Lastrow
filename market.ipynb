{
 "cells": [
  {
   "cell_type": "code",
   "execution_count": 61,
   "id": "62fe31e1-c891-4536-b8a5-865ced73ad31",
   "metadata": {},
   "outputs": [],
   "source": [
    "import pandas as pd\n",
    "import numpy as np\n",
    "import matplotlib.pyplot as plt\n",
    "import matplotlib.ticker as ticker\n",
    "import seaborn as sns\n",
    "import plotly.express as px\n",
    "\n",
    "plt.rcParams['figure.figsize'] = (12, 8)\n",
    "plt.style.use(\"ggplot\")"
   ]
  },
  {
   "cell_type": "code",
   "execution_count": 63,
   "id": "2a09d328-c17f-4531-9fd3-d189a2d7fd22",
   "metadata": {},
   "outputs": [],
   "source": [
    "monday = pd.read_csv(\"data/monday.csv\", sep=\";\", parse_dates=[\"timestamp\"])\n",
    "tuesday = pd.read_csv(\"data/tuesday.csv\", sep=\";\", parse_dates=[\"timestamp\"])\n",
    "wednesday = pd.read_csv(\"data/wednesday.csv\", sep=\";\", parse_dates=[\"timestamp\"])\n",
    "thursday = pd.read_csv(\"data/thursday.csv\", sep=\";\", parse_dates=[\"timestamp\"])\n",
    "friday = pd.read_csv(\"data/friday.csv\", sep=\";\", parse_dates=[\"timestamp\"])"
   ]
  },
  {
   "cell_type": "code",
   "execution_count": 64,
   "id": "1e572e0e-2227-4c59-b212-d695097b29d6",
   "metadata": {},
   "outputs": [],
   "source": [
    "frames = monday, tuesday, wednesday, thursday, friday\n",
    "monday[\"day\"] = \"monday\"\n",
    "tuesday[\"day\"] = \"tuesday\"\n",
    "wednesday[\"day\"] = \"wednesday\"\n",
    "thursday[\"day\"] = \"thursday\"\n",
    "friday[\"day\"] = \"friday\""
   ]
  },
  {
   "cell_type": "code",
   "execution_count": 65,
   "id": "d572df66-1c08-47ea-8b47-a04dec04d359",
   "metadata": {},
   "outputs": [
    {
     "data": {
      "text/html": [
       "<div>\n",
       "<style scoped>\n",
       "    .dataframe tbody tr th:only-of-type {\n",
       "        vertical-align: middle;\n",
       "    }\n",
       "\n",
       "    .dataframe tbody tr th {\n",
       "        vertical-align: top;\n",
       "    }\n",
       "\n",
       "    .dataframe thead th {\n",
       "        text-align: right;\n",
       "    }\n",
       "</style>\n",
       "<table border=\"1\" class=\"dataframe\">\n",
       "  <thead>\n",
       "    <tr style=\"text-align: right;\">\n",
       "      <th></th>\n",
       "      <th>index</th>\n",
       "      <th>timestamp</th>\n",
       "      <th>customer_no</th>\n",
       "      <th>location</th>\n",
       "      <th>day</th>\n",
       "    </tr>\n",
       "  </thead>\n",
       "  <tbody>\n",
       "    <tr>\n",
       "      <th>0</th>\n",
       "      <td>0</td>\n",
       "      <td>2019-09-02 07:03:00</td>\n",
       "      <td>1</td>\n",
       "      <td>dairy</td>\n",
       "      <td>monday</td>\n",
       "    </tr>\n",
       "    <tr>\n",
       "      <th>1</th>\n",
       "      <td>1</td>\n",
       "      <td>2019-09-02 07:03:00</td>\n",
       "      <td>2</td>\n",
       "      <td>dairy</td>\n",
       "      <td>monday</td>\n",
       "    </tr>\n",
       "    <tr>\n",
       "      <th>2</th>\n",
       "      <td>2</td>\n",
       "      <td>2019-09-02 07:04:00</td>\n",
       "      <td>3</td>\n",
       "      <td>dairy</td>\n",
       "      <td>monday</td>\n",
       "    </tr>\n",
       "    <tr>\n",
       "      <th>3</th>\n",
       "      <td>3</td>\n",
       "      <td>2019-09-02 07:04:00</td>\n",
       "      <td>4</td>\n",
       "      <td>dairy</td>\n",
       "      <td>monday</td>\n",
       "    </tr>\n",
       "    <tr>\n",
       "      <th>4</th>\n",
       "      <td>4</td>\n",
       "      <td>2019-09-02 07:04:00</td>\n",
       "      <td>5</td>\n",
       "      <td>spices</td>\n",
       "      <td>monday</td>\n",
       "    </tr>\n",
       "  </tbody>\n",
       "</table>\n",
       "</div>"
      ],
      "text/plain": [
       "   index           timestamp  customer_no location     day\n",
       "0      0 2019-09-02 07:03:00            1    dairy  monday\n",
       "1      1 2019-09-02 07:03:00            2    dairy  monday\n",
       "2      2 2019-09-02 07:04:00            3    dairy  monday\n",
       "3      3 2019-09-02 07:04:00            4    dairy  monday\n",
       "4      4 2019-09-02 07:04:00            5   spices  monday"
      ]
     },
     "execution_count": 65,
     "metadata": {},
     "output_type": "execute_result"
    }
   ],
   "source": [
    "week = pd.concat(frames).reset_index()\n",
    "week.head()"
   ]
  },
  {
   "cell_type": "markdown",
   "id": "f46b5b77-fc9a-48fd-961d-bc42ed96ee5e",
   "metadata": {},
   "source": [
    "### Calculate the total number of customers in each section"
   ]
  },
  {
   "cell_type": "code",
   "execution_count": 66,
   "id": "0f632f84-22ce-4ac5-b626-f7ebd550f195",
   "metadata": {},
   "outputs": [
    {
     "data": {
      "text/html": [
       "<div>\n",
       "<style scoped>\n",
       "    .dataframe tbody tr th:only-of-type {\n",
       "        vertical-align: middle;\n",
       "    }\n",
       "\n",
       "    .dataframe tbody tr th {\n",
       "        vertical-align: top;\n",
       "    }\n",
       "\n",
       "    .dataframe thead th {\n",
       "        text-align: right;\n",
       "    }\n",
       "</style>\n",
       "<table border=\"1\" class=\"dataframe\">\n",
       "  <thead>\n",
       "    <tr style=\"text-align: right;\">\n",
       "      <th></th>\n",
       "      <th>timestamp</th>\n",
       "      <th>location</th>\n",
       "      <th>count</th>\n",
       "    </tr>\n",
       "  </thead>\n",
       "  <tbody>\n",
       "    <tr>\n",
       "      <th>0</th>\n",
       "      <td>2019-09-02 07:03:00</td>\n",
       "      <td>dairy</td>\n",
       "      <td>2</td>\n",
       "    </tr>\n",
       "    <tr>\n",
       "      <th>1</th>\n",
       "      <td>2019-09-02 07:04:00</td>\n",
       "      <td>dairy</td>\n",
       "      <td>2</td>\n",
       "    </tr>\n",
       "    <tr>\n",
       "      <th>2</th>\n",
       "      <td>2019-09-02 07:04:00</td>\n",
       "      <td>fruit</td>\n",
       "      <td>1</td>\n",
       "    </tr>\n",
       "    <tr>\n",
       "      <th>3</th>\n",
       "      <td>2019-09-02 07:04:00</td>\n",
       "      <td>spices</td>\n",
       "      <td>3</td>\n",
       "    </tr>\n",
       "    <tr>\n",
       "      <th>4</th>\n",
       "      <td>2019-09-02 07:05:00</td>\n",
       "      <td>checkout</td>\n",
       "      <td>2</td>\n",
       "    </tr>\n",
       "  </tbody>\n",
       "</table>\n",
       "</div>"
      ],
      "text/plain": [
       "            timestamp  location  count\n",
       "0 2019-09-02 07:03:00     dairy      2\n",
       "1 2019-09-02 07:04:00     dairy      2\n",
       "2 2019-09-02 07:04:00     fruit      1\n",
       "3 2019-09-02 07:04:00    spices      3\n",
       "4 2019-09-02 07:05:00  checkout      2"
      ]
     },
     "execution_count": 66,
     "metadata": {},
     "output_type": "execute_result"
    }
   ],
   "source": [
    "monday_count = monday.groupby(['timestamp', \"location\"]).agg({\"customer_no\":\"count\"}).reset_index()\n",
    "monday_count.rename(columns={\"customer_no\":\"count\"}, inplace=True)\n",
    "monday_count.head()"
   ]
  },
  {
   "cell_type": "code",
   "execution_count": 67,
   "id": "02351890-4487-4673-89da-9db37b4d4b3f",
   "metadata": {},
   "outputs": [
    {
     "data": {
      "image/png": "[encoded data removed]",
      "text/plain": [
       "<Figure size 864x576 with 1 Axes>"
      ]
     },
     "metadata": {},
     "output_type": "display_data"
    }
   ],
   "source": [
    "monday_count[\"location\"].value_counts().plot(kind=\"pie\", \n",
    "                                             autopct='%1.1f%%', \n",
    "                                             title=\"Percentage of customers in each section\");"
   ]
  },
  {
   "cell_type": "markdown",
   "id": "9a2bf0cd-7b05-4461-b9b5-1bdd63b945e4",
   "metadata": {},
   "source": [
    "### Display cumulated number of customers in each section"
   ]
  },
  {
   "cell_type": "code",
   "execution_count": 68,
   "id": "2d85858b-cdd3-4cd4-9df0-b18e5fe0a61c",
   "metadata": {},
   "outputs": [
    {
     "data": {
      "image/png": "[encoded data removed]",
      "text/plain": [
       "<Figure size 864x576 with 1 Axes>"
      ]
     },
     "metadata": {},
     "output_type": "display_data"
    }
   ],
   "source": [
    "monday_count[\"cumsum\"] = monday_count.groupby([\"location\"])[\"count\"].cumsum()\n",
    "\n",
    "fig = plt.figure()\n",
    "plot_ = sns.lineplot(data=monday_count, x=\"timestamp\", y=\"cumsum\", hue=\"location\");\n",
    "fig.canvas.draw()\n",
    "new_ticks = [i.get_text() for i in plot_.get_xticklabels()]\n",
    "plt.xticks(range(0, len(new_ticks), 200), new_ticks[::200]);"
   ]
  },
  {
   "cell_type": "markdown",
   "id": "1d473dbe-7156-4073-931a-661865f1bb3f",
   "metadata": {},
   "source": [
    "### Display the number of customers at checkout over time"
   ]
  },
  {
   "cell_type": "code",
   "execution_count": 69,
   "id": "beba4ec3-fdc7-4aad-8397-05c05d4ace22",
   "metadata": {},
   "outputs": [],
   "source": [
    "checked_out = monday_count[monday_count[\"location\"]==\"checkout\"]"
   ]
  },
  {
   "cell_type": "code",
   "execution_count": 70,
   "id": "bb03a4fc-8126-4a0e-b571-da1d53dbe9d6",
   "metadata": {},
   "outputs": [
    {
     "data": {
      "application/vnd.plotly.v1+json": {
       "config": {
        "plotlyServerURL": "https://plot.ly"
       },
       "data": [
        {
         "hovertemplate": "timestamp=%{x}<br>count=%{y}<extra></extra>",
         "legendgroup": "",
         "line": {
          "color": "#636efa",
          "dash": "solid"
         },
         "marker": {
          "symbol": "circle"
         },
         "mode": "lines",
         "name": "",
         "orientation": "v",
         "showlegend": false,
         "type": "scatter",
         "x": [
          "2019-09-02T07:05:00",
          "2019-09-02T07:06:00",
          "2019-09-02T07:07:00",
          "2019-09-02T07:08:00",
          "2019-09-02T07:09:00",
          "2019-09-02T07:10:00",
          "2019-09-02T07:11:00",
          "2019-09-02T07:12:00",
          "2019-09-02T07:13:00",
          "2019-09-02T07:14:00",
          "2019-09-02T07:15:00",
          "2019-09-02T07:16:00",
          "2019-09-02T07:17:00",
          "2019-09-02T07:18:00",
          "2019-09-02T07:19:00",
          "2019-09-02T07:20:00",
          "2019-09-02T07:21:00",
          "2019-09-02T07:22:00",
          "2019-09-02T07:23:00",
          "2019-09-02T07:24:00",
          "2019-09-02T07:26:00",
          "2019-09-02T07:27:00",
          "2019-09-02T07:28:00",
          "2019-09-02T07:29:00",
          "2019-09-02T07:30:00",
          "2019-09-02T07:31:00",
          "2019-09-02T07:32:00",
          "2019-09-02T07:33:00",
          "2019-09-02T07:35:00",
          "2019-09-02T07:36:00",
          "2019-09-02T07:37:00",
          "2019-09-02T07:38:00",
          "2019-09-02T07:39:00",
          "2019-09-02T07:40:00",
          "2019-09-02T07:41:00",
          "2019-09-02T07:43:00",
          "2019-09-02T07:44:00",
          "2019-09-02T07:45:00",
          "2019-09-02T07:46:00",
          "2019-09-02T07:47:00",
          "2019-09-02T07:48:00",
          "2019-09-02T07:49:00",
          "2019-09-02T07:50:00",
          "2019-09-02T07:51:00",
          "2019-09-02T07:52:00",
          "2019-09-02T07:53:00",
          "2019-09-02T07:54:00",
          "2019-09-02T07:55:00",
          "2019-09-02T07:57:00",
          "2019-09-02T07:59:00",
          "2019-09-02T08:00:00",
          "2019-09-02T08:01:00",
          "2019-09-02T08:02:00",
          "2019-09-02T08:03:00",
          "2019-09-02T08:06:00",
          "2019-09-02T08:07:00",
          "2019-09-02T08:08:00",
          "2019-09-02T08:11:00",
          "2019-09-02T08:12:00",
          "2019-09-02T08:13:00",
          "2019-09-02T08:14:00",
          "2019-09-02T08:15:00",
          "2019-09-02T08:16:00",
          "2019-09-02T08:17:00",
          "2019-09-02T08:18:00",
          "2019-09-02T08:19:00",
          "2019-09-02T08:21:00",
          "2019-09-02T08:22:00",
          "2019-09-02T08:23:00",
          "2019-09-02T08:24:00",
          "2019-09-02T08:25:00",
          "2019-09-02T08:26:00",
          "2019-09-02T08:27:00",
          "2019-09-02T08:28:00",
          "2019-09-02T08:29:00",
          "2019-09-02T08:30:00",
          "2019-09-02T08:32:00",
          "2019-09-02T08:33:00",
          "2019-09-02T08:35:00",
          "2019-09-02T08:36:00",
          "2019-09-02T08:38:00",
          "2019-09-02T08:39:00",
          "2019-09-02T08:40:00",
          "2019-09-02T08:41:00",
          "2019-09-02T08:42:00",
          "2019-09-02T08:43:00",
          "2019-09-02T08:44:00",
          "2019-09-02T08:45:00",
          "2019-09-02T08:46:00",
          "2019-09-02T08:47:00",
          "2019-09-02T08:48:00",
          "2019-09-02T08:49:00",
          "2019-09-02T08:50:00",
          "2019-09-02T08:51:00",
          "2019-09-02T08:52:00",
          "2019-09-02T08:53:00",
          "2019-09-02T08:54:00",
          "2019-09-02T08:55:00",
          "2019-09-02T08:56:00",
          "2019-09-02T08:57:00",
          "2019-09-02T08:58:00",
          "2019-09-02T08:59:00",
          "2019-09-02T09:00:00",
          "2019-09-02T09:02:00",
          "2019-09-02T09:06:00",
          "2019-09-02T09:07:00",
          "2019-09-02T09:09:00",
          "2019-09-02T09:10:00",
          "2019-09-02T09:11:00",
          "2019-09-02T09:12:00",
          "2019-09-02T09:13:00",
          "2019-09-02T09:14:00",
          "2019-09-02T09:16:00",
          "2019-09-02T09:20:00",
          "2019-09-02T09:21:00",
          "2019-09-02T09:22:00",
          "2019-09-02T09:23:00",
          "2019-09-02T09:24:00",
          "2019-09-02T09:25:00",
          "2019-09-02T09:27:00",
          "2019-09-02T09:30:00",
          "2019-09-02T09:31:00",
          "2019-09-02T09:32:00",
          "2019-09-02T09:33:00",
          "2019-09-02T09:34:00",
          "2019-09-02T09:35:00",
          "2019-09-02T09:36:00",
          "2019-09-02T09:38:00",
          "2019-09-02T09:39:00",
          "2019-09-02T09:40:00",
          "2019-09-02T09:41:00",
          "2019-09-02T09:42:00",
          "2019-09-02T09:43:00",
          "2019-09-02T09:44:00",
          "2019-09-02T09:45:00",
          "2019-09-02T09:46:00",
          "2019-09-02T09:47:00",
          "2019-09-02T09:49:00",
          "2019-09-02T09:52:00",
          "2019-09-02T09:53:00",
          "2019-09-02T09:54:00",
          "2019-09-02T09:55:00",
          "2019-09-02T09:56:00",
          "2019-09-02T09:57:00",
          "2019-09-02T09:58:00",
          "2019-09-02T10:00:00",
          "2019-09-02T10:01:00",
          "2019-09-02T10:02:00",
          "2019-09-02T10:03:00",
          "2019-09-02T10:04:00",
          "2019-09-02T10:07:00",
          "2019-09-02T10:08:00",
          "2019-09-02T10:09:00",
          "2019-09-02T10:10:00",
          "2019-09-02T10:13:00",
          "2019-09-02T10:14:00",
          "2019-09-02T10:15:00",
          "2019-09-02T10:17:00",
          "2019-09-02T10:18:00",
          "2019-09-02T10:19:00",
          "2019-09-02T10:20:00",
          "2019-09-02T10:21:00",
          "2019-09-02T10:22:00",
          "2019-09-02T10:23:00",
          "2019-09-02T10:24:00",
          "2019-09-02T10:25:00",
          "2019-09-02T10:28:00",
          "2019-09-02T10:30:00",
          "2019-09-02T10:32:00",
          "2019-09-02T10:34:00",
          "2019-09-02T10:35:00",
          "2019-09-02T10:36:00",
          "2019-09-02T10:37:00",
          "2019-09-02T10:38:00",
          "2019-09-02T10:39:00",
          "2019-09-02T10:40:00",
          "2019-09-02T10:42:00",
          "2019-09-02T10:43:00",
          "2019-09-02T10:44:00",
          "2019-09-02T10:46:00",
          "2019-09-02T10:47:00",
          "2019-09-02T10:48:00",
          "2019-09-02T10:49:00",
          "2019-09-02T10:50:00",
          "2019-09-02T10:51:00",
          "2019-09-02T10:52:00",
          "2019-09-02T10:53:00",
          "2019-09-02T10:54:00",
          "2019-09-02T10:55:00",
          "2019-09-02T10:56:00",
          "2019-09-02T10:58:00",
          "2019-09-02T11:00:00",
          "2019-09-02T11:02:00",
          "2019-09-02T11:05:00",
          "2019-09-02T11:06:00",
          "2019-09-02T11:09:00",
          "2019-09-02T11:10:00",
          "2019-09-02T11:12:00",
          "2019-09-02T11:13:00",
          "2019-09-02T11:16:00",
          "2019-09-02T11:20:00",
          "2019-09-02T11:21:00",
          "2019-09-02T11:22:00",
          "2019-09-02T11:23:00",
          "2019-09-02T11:24:00",
          "2019-09-02T11:25:00",
          "2019-09-02T11:26:00",
          "2019-09-02T11:28:00",
          "2019-09-02T11:29:00",
          "2019-09-02T11:30:00",
          "2019-09-02T11:33:00",
          "2019-09-02T11:34:00",
          "2019-09-02T11:36:00",
          "2019-09-02T11:37:00",
          "2019-09-02T11:38:00",
          "2019-09-02T11:41:00",
          "2019-09-02T11:42:00",
          "2019-09-02T11:44:00",
          "2019-09-02T11:47:00",
          "2019-09-02T11:49:00",
          "2019-09-02T11:50:00",
          "2019-09-02T11:52:00",
          "2019-09-02T11:53:00",
          "2019-09-02T11:54:00",
          "2019-09-02T11:55:00",
          "2019-09-02T11:57:00",
          "2019-09-02T11:59:00",
          "2019-09-02T12:00:00",
          "2019-09-02T12:03:00",
          "2019-09-02T12:05:00",
          "2019-09-02T12:06:00",
          "2019-09-02T12:08:00",
          "2019-09-02T12:09:00",
          "2019-09-02T12:11:00",
          "2019-09-02T12:13:00",
          "2019-09-02T12:14:00",
          "2019-09-02T12:15:00",
          "2019-09-02T12:17:00",
          "2019-09-02T12:18:00",
          "2019-09-02T12:19:00",
          "2019-09-02T12:20:00",
          "2019-09-02T12:22:00",
          "2019-09-02T12:23:00",
          "2019-09-02T12:24:00",
          "2019-09-02T12:25:00",
          "2019-09-02T12:26:00",
          "2019-09-02T12:27:00",
          "2019-09-02T12:28:00",
          "2019-09-02T12:29:00",
          "2019-09-02T12:30:00",
          "2019-09-02T12:31:00",
          "2019-09-02T12:32:00",
          "2019-09-02T12:33:00",
          "2019-09-02T12:34:00",
          "2019-09-02T12:35:00",
          "2019-09-02T12:36:00",
          "2019-09-02T12:37:00",
          "2019-09-02T12:38:00",
          "2019-09-02T12:40:00",
          "2019-09-02T12:41:00",
          "2019-09-02T12:43:00",
          "2019-09-02T12:45:00",
          "2019-09-02T12:47:00",
          "2019-09-02T12:48:00",
          "2019-09-02T12:49:00",
          "2019-09-02T12:50:00",
          "2019-09-02T12:51:00",
          "2019-09-02T12:55:00",
          "2019-09-02T12:56:00",
          "2019-09-02T12:58:00",
          "2019-09-02T12:59:00",
          "2019-09-02T13:00:00",
          "2019-09-02T13:01:00",
          "2019-09-02T13:02:00",
          "2019-09-02T13:03:00",
          "2019-09-02T13:04:00",
          "2019-09-02T13:05:00",
          "2019-09-02T13:06:00",
          "2019-09-02T13:07:00",
          "2019-09-02T13:08:00",
          "2019-09-02T13:09:00",
          "2019-09-02T13:10:00",
          "2019-09-02T13:11:00",
          "2019-09-02T13:12:00",
          "2019-09-02T13:13:00",
          "2019-09-02T13:14:00",
          "2019-09-02T13:15:00",
          "2019-09-02T13:16:00",
          "2019-09-02T13:17:00",
          "2019-09-02T13:18:00",
          "2019-09-02T13:19:00",
          "2019-09-02T13:20:00",
          "2019-09-02T13:21:00",
          "2019-09-02T13:22:00",
          "2019-09-02T13:24:00",
          "2019-09-02T13:25:00",
          "2019-09-02T13:26:00",
          "2019-09-02T13:27:00",
          "2019-09-02T13:28:00",
          "2019-09-02T13:30:00",
          "2019-09-02T13:31:00",
          "2019-09-02T13:32:00",
          "2019-09-02T13:33:00",
          "2019-09-02T13:34:00",
          "2019-09-02T13:35:00",
          "2019-09-02T13:37:00",
          "2019-09-02T13:39:00",
          "2019-09-02T13:40:00",
          "2019-09-02T13:41:00",
          "2019-09-02T13:42:00",
          "2019-09-02T13:43:00",
          "2019-09-02T13:44:00",
          "2019-09-02T13:45:00",
          "2019-09-02T13:46:00",
          "2019-09-02T13:47:00",
          "2019-09-02T13:48:00",
          "2019-09-02T13:49:00",
          "2019-09-02T13:50:00",
          "2019-09-02T13:51:00",
          "2019-09-02T13:52:00",
          "2019-09-02T13:53:00",
          "2019-09-02T13:54:00",
          "2019-09-02T13:56:00",
          "2019-09-02T13:58:00",
          "2019-09-02T13:59:00",
          "2019-09-02T14:00:00",
          "2019-09-02T14:03:00",
          "2019-09-02T14:04:00",
          "2019-09-02T14:05:00",
          "2019-09-02T14:06:00",
          "2019-09-02T14:07:00",
          "2019-09-02T14:08:00",
          "2019-09-02T14:09:00",
          "2019-09-02T14:10:00",
          "2019-09-02T14:11:00",
          "2019-09-02T14:12:00",
          "2019-09-02T14:13:00",
          "2019-09-02T14:14:00",
          "2019-09-02T14:15:00",
          "2019-09-02T14:16:00",
          "2019-09-02T14:18:00",
          "2019-09-02T14:21:00",
          "2019-09-02T14:22:00",
          "2019-09-02T14:23:00",
          "2019-09-02T14:24:00",
          "2019-09-02T14:25:00",
          "2019-09-02T14:26:00",
          "2019-09-02T14:27:00",
          "2019-09-02T14:28:00",
          "2019-09-02T14:29:00",
          "2019-09-02T14:30:00",
          "2019-09-02T14:31:00",
          "2019-09-02T14:32:00",
          "2019-09-02T14:34:00",
          "2019-09-02T14:35:00",
          "2019-09-02T14:37:00",
          "2019-09-02T14:38:00",
          "2019-09-02T14:39:00",
          "2019-09-02T14:42:00",
          "2019-09-02T14:43:00",
          "2019-09-02T14:44:00",
          "2019-09-02T14:45:00",
          "2019-09-02T14:47:00",
          "2019-09-02T14:48:00",
          "2019-09-02T14:49:00",
          "2019-09-02T14:50:00",
          "2019-09-02T14:51:00",
          "2019-09-02T14:53:00",
          "2019-09-02T14:54:00",
          "2019-09-02T14:55:00",
          "2019-09-02T14:56:00",
          "2019-09-02T15:00:00",
          "2019-09-02T15:01:00",
          "2019-09-02T15:03:00",
          "2019-09-02T15:05:00",
          "2019-09-02T15:07:00",
          "2019-09-02T15:08:00",
          "2019-09-02T15:09:00",
          "2019-09-02T15:11:00",
          "2019-09-02T15:12:00",
          "2019-09-02T15:13:00",
          "2019-09-02T15:14:00",
          "2019-09-02T15:15:00",
          "2019-09-02T15:16:00",
          "2019-09-02T15:17:00",
          "2019-09-02T15:18:00",
          "2019-09-02T15:19:00",
          "2019-09-02T15:20:00",
          "2019-09-02T15:21:00",
          "2019-09-02T15:22:00",
          "2019-09-02T15:23:00",
          "2019-09-02T15:25:00",
          "2019-09-02T15:26:00",
          "2019-09-02T15:27:00",
          "2019-09-02T15:29:00",
          "2019-09-02T15:30:00",
          "2019-09-02T15:31:00",
          "2019-09-02T15:32:00",
          "2019-09-02T15:34:00",
          "2019-09-02T15:35:00",
          "2019-09-02T15:37:00",
          "2019-09-02T15:39:00",
          "2019-09-02T15:40:00",
          "2019-09-02T15:41:00",
          "2019-09-02T15:42:00",
          "2019-09-02T15:44:00",
          "2019-09-02T15:45:00",
          "2019-09-02T15:46:00",
          "2019-09-02T15:47:00",
          "2019-09-02T15:48:00",
          "2019-09-02T15:49:00",
          "2019-09-02T15:50:00",
          "2019-09-02T15:51:00",
          "2019-09-02T15:52:00",
          "2019-09-02T15:54:00",
          "2019-09-02T15:56:00",
          "2019-09-02T15:57:00",
          "2019-09-02T15:58:00",
          "2019-09-02T16:00:00",
          "2019-09-02T16:02:00",
          "2019-09-02T16:03:00",
          "2019-09-02T16:04:00",
          "2019-09-02T16:06:00",
          "2019-09-02T16:07:00",
          "2019-09-02T16:10:00",
          "2019-09-02T16:11:00",
          "2019-09-02T16:13:00",
          "2019-09-02T16:17:00",
          "2019-09-02T16:21:00",
          "2019-09-02T16:22:00",
          "2019-09-02T16:24:00",
          "2019-09-02T16:25:00",
          "2019-09-02T16:27:00",
          "2019-09-02T16:28:00",
          "2019-09-02T16:30:00",
          "2019-09-02T16:31:00",
          "2019-09-02T16:32:00",
          "2019-09-02T16:33:00",
          "2019-09-02T16:35:00",
          "2019-09-02T16:36:00",
          "2019-09-02T16:37:00",
          "2019-09-02T16:38:00",
          "2019-09-02T16:39:00",
          "2019-09-02T16:40:00",
          "2019-09-02T16:41:00",
          "2019-09-02T16:42:00",
          "2019-09-02T16:44:00",
          "2019-09-02T16:45:00",
          "2019-09-02T16:46:00",
          "2019-09-02T16:47:00",
          "2019-09-02T16:48:00",
          "2019-09-02T16:49:00",
          "2019-09-02T16:50:00",
          "2019-09-02T16:51:00",
          "2019-09-02T16:52:00",
          "2019-09-02T16:53:00",
          "2019-09-02T16:54:00",
          "2019-09-02T16:55:00",
          "2019-09-02T16:56:00",
          "2019-09-02T16:58:00",
          "2019-09-02T16:59:00",
          "2019-09-02T17:00:00",
          "2019-09-02T17:01:00",
          "2019-09-02T17:02:00",
          "2019-09-02T17:03:00",
          "2019-09-02T17:04:00",
          "2019-09-02T17:07:00",
          "2019-09-02T17:08:00",
          "2019-09-02T17:09:00",
          "2019-09-02T17:10:00",
          "2019-09-02T17:11:00",
          "2019-09-02T17:12:00",
          "2019-09-02T17:14:00",
          "2019-09-02T17:15:00",
          "2019-09-02T17:16:00",
          "2019-09-02T17:17:00",
          "2019-09-02T17:18:00",
          "2019-09-02T17:20:00",
          "2019-09-02T17:21:00",
          "2019-09-02T17:22:00",
          "2019-09-02T17:23:00",
          "2019-09-02T17:24:00",
          "2019-09-02T17:25:00",
          "2019-09-02T17:26:00",
          "2019-09-02T17:27:00",
          "2019-09-02T17:29:00",
          "2019-09-02T17:30:00",
          "2019-09-02T17:31:00",
          "2019-09-02T17:32:00",
          "2019-09-02T17:33:00",
          "2019-09-02T17:34:00",
          "2019-09-02T17:35:00",
          "2019-09-02T17:36:00",
          "2019-09-02T17:37:00",
          "2019-09-02T17:38:00",
          "2019-09-02T17:39:00",
          "2019-09-02T17:40:00",
          "2019-09-02T17:41:00",
          "2019-09-02T17:42:00",
          "2019-09-02T17:43:00",
          "2019-09-02T17:44:00",
          "2019-09-02T17:45:00",
          "2019-09-02T17:46:00",
          "2019-09-02T17:47:00",
          "2019-09-02T17:48:00",
          "2019-09-02T17:49:00",
          "2019-09-02T17:50:00",
          "2019-09-02T17:51:00",
          "2019-09-02T17:52:00",
          "2019-09-02T17:53:00",
          "2019-09-02T17:55:00",
          "2019-09-02T17:57:00",
          "2019-09-02T17:58:00",
          "2019-09-02T17:59:00",
          "2019-09-02T18:00:00",
          "2019-09-02T18:01:00",
          "2019-09-02T18:03:00",
          "2019-09-02T18:04:00",
          "2019-09-02T18:05:00",
          "2019-09-02T18:06:00",
          "2019-09-02T18:07:00",
          "2019-09-02T18:08:00",
          "2019-09-02T18:09:00",
          "2019-09-02T18:10:00",
          "2019-09-02T18:11:00",
          "2019-09-02T18:12:00",
          "2019-09-02T18:13:00",
          "2019-09-02T18:14:00",
          "2019-09-02T18:15:00",
          "2019-09-02T18:16:00",
          "2019-09-02T18:17:00",
          "2019-09-02T18:18:00",
          "2019-09-02T18:19:00",
          "2019-09-02T18:20:00",
          "2019-09-02T18:21:00",
          "2019-09-02T18:22:00",
          "2019-09-02T18:23:00",
          "2019-09-02T18:24:00",
          "2019-09-02T18:25:00",
          "2019-09-02T18:26:00",
          "2019-09-02T18:27:00",
          "2019-09-02T18:28:00",
          "2019-09-02T18:29:00",
          "2019-09-02T18:30:00",
          "2019-09-02T18:31:00",
          "2019-09-02T18:32:00",
          "2019-09-02T18:33:00",
          "2019-09-02T18:35:00",
          "2019-09-02T18:36:00",
          "2019-09-02T18:37:00",
          "2019-09-02T18:38:00",
          "2019-09-02T18:39:00",
          "2019-09-02T18:40:00",
          "2019-09-02T18:41:00",
          "2019-09-02T18:42:00",
          "2019-09-02T18:43:00",
          "2019-09-02T18:44:00",
          "2019-09-02T18:45:00",
          "2019-09-02T18:46:00",
          "2019-09-02T18:47:00",
          "2019-09-02T18:49:00",
          "2019-09-02T18:50:00",
          "2019-09-02T18:51:00",
          "2019-09-02T18:52:00",
          "2019-09-02T18:53:00",
          "2019-09-02T18:54:00",
          "2019-09-02T18:57:00",
          "2019-09-02T18:58:00",
          "2019-09-02T18:59:00",
          "2019-09-02T19:00:00",
          "2019-09-02T19:01:00",
          "2019-09-02T19:02:00",
          "2019-09-02T19:03:00",
          "2019-09-02T19:04:00",
          "2019-09-02T19:05:00",
          "2019-09-02T19:06:00",
          "2019-09-02T19:07:00",
          "2019-09-02T19:08:00",
          "2019-09-02T19:09:00",
          "2019-09-02T19:10:00",
          "2019-09-02T19:11:00",
          "2019-09-02T19:12:00",
          "2019-09-02T19:13:00",
          "2019-09-02T19:14:00",
          "2019-09-02T19:15:00",
          "2019-09-02T19:16:00",
          "2019-09-02T19:17:00",
          "2019-09-02T19:18:00",
          "2019-09-02T19:19:00",
          "2019-09-02T19:20:00",
          "2019-09-02T19:21:00",
          "2019-09-02T19:22:00",
          "2019-09-02T19:24:00",
          "2019-09-02T19:26:00",
          "2019-09-02T19:27:00",
          "2019-09-02T19:28:00",
          "2019-09-02T19:29:00",
          "2019-09-02T19:30:00",
          "2019-09-02T19:33:00",
          "2019-09-02T19:35:00",
          "2019-09-02T19:36:00",
          "2019-09-02T19:37:00",
          "2019-09-02T19:38:00",
          "2019-09-02T19:39:00",
          "2019-09-02T19:40:00",
          "2019-09-02T19:41:00",
          "2019-09-02T19:42:00",
          "2019-09-02T19:43:00",
          "2019-09-02T19:44:00",
          "2019-09-02T19:45:00",
          "2019-09-02T19:46:00",
          "2019-09-02T19:47:00",
          "2019-09-02T19:48:00",
          "2019-09-02T19:49:00",
          "2019-09-02T19:50:00",
          "2019-09-02T19:52:00",
          "2019-09-02T19:53:00",
          "2019-09-02T19:54:00",
          "2019-09-02T19:55:00",
          "2019-09-02T19:56:00",
          "2019-09-02T19:57:00",
          "2019-09-02T19:58:00",
          "2019-09-02T19:59:00",
          "2019-09-02T20:00:00",
          "2019-09-02T20:01:00",
          "2019-09-02T20:02:00",
          "2019-09-02T20:03:00",
          "2019-09-02T20:06:00",
          "2019-09-02T20:08:00",
          "2019-09-02T20:09:00",
          "2019-09-02T20:10:00",
          "2019-09-02T20:11:00",
          "2019-09-02T20:12:00",
          "2019-09-02T20:13:00",
          "2019-09-02T20:14:00",
          "2019-09-02T20:15:00",
          "2019-09-02T20:16:00",
          "2019-09-02T20:17:00",
          "2019-09-02T20:18:00",
          "2019-09-02T20:19:00",
          "2019-09-02T20:20:00",
          "2019-09-02T20:22:00",
          "2019-09-02T20:23:00",
          "2019-09-02T20:25:00",
          "2019-09-02T20:27:00",
          "2019-09-02T20:30:00",
          "2019-09-02T20:33:00",
          "2019-09-02T20:34:00",
          "2019-09-02T20:35:00",
          "2019-09-02T20:37:00",
          "2019-09-02T20:38:00",
          "2019-09-02T20:39:00",
          "2019-09-02T20:40:00",
          "2019-09-02T20:42:00",
          "2019-09-02T20:43:00",
          "2019-09-02T20:44:00",
          "2019-09-02T20:45:00",
          "2019-09-02T20:46:00",
          "2019-09-02T20:48:00",
          "2019-09-02T20:49:00",
          "2019-09-02T20:50:00",
          "2019-09-02T20:51:00",
          "2019-09-02T20:52:00",
          "2019-09-02T20:53:00",
          "2019-09-02T20:54:00",
          "2019-09-02T20:55:00",
          "2019-09-02T20:56:00",
          "2019-09-02T20:58:00",
          "2019-09-02T20:59:00",
          "2019-09-02T21:01:00",
          "2019-09-02T21:02:00",
          "2019-09-02T21:03:00",
          "2019-09-02T21:05:00",
          "2019-09-02T21:07:00",
          "2019-09-02T21:08:00",
          "2019-09-02T21:09:00",
          "2019-09-02T21:11:00",
          "2019-09-02T21:12:00",
          "2019-09-02T21:13:00",
          "2019-09-02T21:14:00",
          "2019-09-02T21:16:00",
          "2019-09-02T21:17:00",
          "2019-09-02T21:18:00",
          "2019-09-02T21:21:00",
          "2019-09-02T21:23:00",
          "2019-09-02T21:27:00",
          "2019-09-02T21:28:00",
          "2019-09-02T21:29:00",
          "2019-09-02T21:30:00",
          "2019-09-02T21:31:00",
          "2019-09-02T21:32:00",
          "2019-09-02T21:33:00",
          "2019-09-02T21:34:00",
          "2019-09-02T21:36:00",
          "2019-09-02T21:37:00",
          "2019-09-02T21:44:00",
          "2019-09-02T21:46:00",
          "2019-09-02T21:47:00",
          "2019-09-02T21:48:00",
          "2019-09-02T21:49:00"
         ],
         "xaxis": "x",
         "y": [
          2,
          2,
          1,
          3,
          1,
          1,
          1,
          1,
          2,
          1,
          1,
          2,
          2,
          2,
          1,
          3,
          1,
          3,
          1,
          1,
          1,
          4,
          2,
          2,
          1,
          1,
          3,
          4,
          1,
          2,
          1,
          1,
          2,
          1,
          1,
          2,
          2,
          1,
          1,
          3,
          3,
          2,
          5,
          2,
          4,
          1,
          3,
          1,
          2,
          1,
          2,
          2,
          2,
          3,
          1,
          2,
          2,
          3,
          2,
          1,
          1,
          2,
          3,
          3,
          2,
          2,
          2,
          2,
          1,
          1,
          3,
          3,
          2,
          1,
          1,
          2,
          2,
          4,
          1,
          1,
          3,
          1,
          1,
          2,
          1,
          1,
          6,
          4,
          2,
          2,
          1,
          2,
          7,
          2,
          1,
          2,
          3,
          1,
          2,
          5,
          2,
          2,
          3,
          1,
          1,
          3,
          2,
          1,
          1,
          2,
          3,
          1,
          2,
          2,
          1,
          3,
          3,
          1,
          1,
          2,
          1,
          3,
          1,
          2,
          1,
          2,
          2,
          3,
          2,
          3,
          2,
          2,
          2,
          5,
          4,
          3,
          1,
          1,
          2,
          1,
          1,
          2,
          3,
          2,
          1,
          1,
          2,
          2,
          1,
          1,
          3,
          3,
          4,
          1,
          3,
          2,
          3,
          1,
          3,
          4,
          4,
          1,
          2,
          1,
          1,
          2,
          1,
          1,
          1,
          1,
          1,
          2,
          2,
          1,
          2,
          2,
          1,
          3,
          4,
          4,
          2,
          1,
          1,
          3,
          3,
          2,
          1,
          3,
          1,
          1,
          1,
          1,
          1,
          1,
          1,
          1,
          2,
          2,
          2,
          1,
          1,
          1,
          1,
          2,
          4,
          4,
          1,
          2,
          2,
          1,
          2,
          2,
          1,
          2,
          1,
          1,
          1,
          1,
          1,
          1,
          1,
          1,
          1,
          2,
          2,
          1,
          3,
          2,
          2,
          1,
          1,
          2,
          1,
          3,
          1,
          1,
          2,
          1,
          2,
          1,
          1,
          1,
          3,
          1,
          1,
          1,
          1,
          2,
          2,
          3,
          1,
          2,
          2,
          1,
          1,
          1,
          3,
          1,
          2,
          1,
          2,
          1,
          1,
          1,
          2,
          4,
          1,
          1,
          3,
          4,
          2,
          1,
          4,
          1,
          1,
          1,
          1,
          1,
          3,
          2,
          1,
          2,
          1,
          1,
          1,
          3,
          1,
          3,
          3,
          3,
          1,
          3,
          1,
          1,
          5,
          1,
          3,
          4,
          2,
          1,
          1,
          1,
          4,
          1,
          5,
          4,
          3,
          3,
          1,
          1,
          1,
          2,
          1,
          2,
          3,
          3,
          5,
          3,
          3,
          3,
          3,
          2,
          4,
          2,
          3,
          2,
          3,
          1,
          2,
          1,
          1,
          2,
          2,
          1,
          2,
          2,
          1,
          1,
          2,
          2,
          2,
          4,
          1,
          1,
          1,
          6,
          3,
          3,
          1,
          2,
          2,
          2,
          1,
          1,
          1,
          2,
          1,
          1,
          3,
          1,
          4,
          2,
          3,
          1,
          2,
          1,
          2,
          5,
          1,
          3,
          2,
          2,
          2,
          1,
          3,
          3,
          3,
          1,
          1,
          2,
          4,
          3,
          3,
          2,
          2,
          1,
          2,
          2,
          2,
          3,
          2,
          3,
          1,
          2,
          2,
          4,
          2,
          1,
          1,
          4,
          2,
          1,
          3,
          2,
          1,
          3,
          2,
          1,
          1,
          3,
          1,
          1,
          3,
          1,
          1,
          1,
          1,
          2,
          3,
          1,
          1,
          1,
          1,
          2,
          2,
          1,
          1,
          3,
          1,
          1,
          2,
          1,
          1,
          3,
          2,
          1,
          1,
          1,
          1,
          1,
          3,
          2,
          1,
          1,
          2,
          3,
          1,
          2,
          4,
          3,
          1,
          5,
          3,
          4,
          1,
          1,
          1,
          5,
          3,
          5,
          3,
          2,
          4,
          4,
          1,
          3,
          4,
          3,
          3,
          2,
          1,
          1,
          2,
          1,
          1,
          5,
          2,
          3,
          2,
          5,
          6,
          2,
          1,
          2,
          2,
          1,
          4,
          1,
          2,
          2,
          3,
          2,
          4,
          2,
          1,
          1,
          2,
          2,
          1,
          1,
          2,
          1,
          1,
          1,
          1,
          3,
          4,
          2,
          3,
          1,
          2,
          2,
          4,
          4,
          3,
          3,
          1,
          4,
          1,
          3,
          2,
          2,
          1,
          2,
          1,
          3,
          3,
          1,
          5,
          2,
          1,
          2,
          5,
          3,
          4,
          2,
          5,
          1,
          1,
          1,
          1,
          2,
          2,
          1,
          1,
          1,
          2,
          2,
          2,
          4,
          3,
          4,
          2,
          2,
          2,
          3,
          4,
          2,
          3,
          5,
          2,
          1,
          1,
          1,
          2,
          2,
          4,
          2,
          3,
          5,
          2,
          2,
          6,
          3,
          1,
          2,
          2,
          1,
          5,
          1,
          5,
          1,
          1,
          2,
          6,
          2,
          1,
          4,
          2,
          1,
          1,
          1,
          4,
          2,
          2,
          1,
          1,
          1,
          1,
          5,
          2,
          1,
          2,
          3,
          1,
          2,
          2,
          4,
          2,
          2,
          2,
          2,
          2,
          1,
          1,
          2,
          5,
          7,
          7,
          1,
          2,
          1,
          1,
          2,
          2,
          2,
          3,
          2,
          1,
          2,
          2,
          2,
          1,
          3,
          2,
          1,
          2,
          2,
          3,
          1,
          3,
          1,
          1,
          3,
          1,
          2,
          2,
          2,
          2,
          4,
          1,
          4,
          2,
          3,
          1,
          4,
          4,
          2,
          6,
          3,
          2,
          2,
          1,
          4,
          4,
          4,
          3,
          3,
          2,
          2,
          1,
          1,
          1,
          5,
          2,
          3,
          3,
          1,
          3,
          1,
          1,
          2,
          1,
          1,
          1,
          1,
          1,
          2,
          2,
          1,
          2,
          3,
          1,
          1,
          1,
          1,
          1,
          2,
          2,
          2
         ],
         "yaxis": "y"
        }
       ],
       "layout": {
        "autosize": true,
        "legend": {
         "tracegroupgap": 0
        },
        "margin": {
         "t": 60
        },
        "template": {
         "data": {
          "bar": [
           {
            "error_x": {
             "color": "#2a3f5f"
            },
            "error_y": {
             "color": "#2a3f5f"
            },
            "marker": {
             "line": {
              "color": "#E5ECF6",
              "width": 0.5
             },
             "pattern": {
              "fillmode": "overlay",
              "size": 10,
              "solidity": 0.2
             }
            },
            "type": "bar"
           }
          ],
          "barpolar": [
           {
            "marker": {
             "line": {
              "color": "#E5ECF6",
              "width": 0.5
             },
             "pattern": {
              "fillmode": "overlay",
              "size": 10,
              "solidity": 0.2
             }
            },
            "type": "barpolar"
           }
          ],
          "carpet": [
           {
            "aaxis": {
             "endlinecolor": "#2a3f5f",
             "gridcolor": "white",
             "linecolor": "white",
             "minorgridcolor": "white",
             "startlinecolor": "#2a3f5f"
            },
            "baxis": {
             "endlinecolor": "#2a3f5f",
             "gridcolor": "white",
             "linecolor": "white",
             "minorgridcolor": "white",
             "startlinecolor": "#2a3f5f"
            },
            "type": "carpet"
           }
          ],
          "choropleth": [
           {
            "colorbar": {
             "outlinewidth": 0,
             "ticks": ""
            },
            "type": "choropleth"
           }
          ],
          "contour": [
           {
            "colorbar": {
             "outlinewidth": 0,
             "ticks": ""
            },
            "colorscale": [
             [
              0,
              "#0d0887"
             ],
             [
              0.1111111111111111,
              "#46039f"
             ],
             [
              0.2222222222222222,
              "#7201a8"
             ],
             [
              0.3333333333333333,
              "#9c179e"
             ],
             [
              0.4444444444444444,
              "#bd3786"
             ],
             [
              0.5555555555555556,
              "#d8576b"
             ],
             [
              0.6666666666666666,
              "#ed7953"
             ],
             [
              0.7777777777777778,
              "#fb9f3a"
             ],
             [
              0.8888888888888888,
              "#fdca26"
             ],
             [
              1,
              "#f0f921"
             ]
            ],
            "type": "contour"
           }
          ],
          "contourcarpet": [
           {
            "colorbar": {
             "outlinewidth": 0,
             "ticks": ""
            },
            "type": "contourcarpet"
           }
          ],
          "heatmap": [
           {
            "colorbar": {
             "outlinewidth": 0,
             "ticks": ""
            },
            "colorscale": [
             [
              0,
              "#0d0887"
             ],
             [
              0.1111111111111111,
              "#46039f"
             ],
             [
              0.2222222222222222,
              "#7201a8"
             ],
             [
              0.3333333333333333,
              "#9c179e"
             ],
             [
              0.4444444444444444,
              "#bd3786"
             ],
             [
              0.5555555555555556,
              "#d8576b"
             ],
             [
              0.6666666666666666,
              "#ed7953"
             ],
             [
              0.7777777777777778,
              "#fb9f3a"
             ],
             [
              0.8888888888888888,
              "#fdca26"
             ],
             [
              1,
              "#f0f921"
             ]
            ],
            "type": "heatmap"
           }
          ],
          "heatmapgl": [
           {
            "colorbar": {
             "outlinewidth": 0,
             "ticks": ""
            },
            "colorscale": [
             [
              0,
              "#0d0887"
             ],
             [
              0.1111111111111111,
              "#46039f"
             ],
             [
              0.2222222222222222,
              "#7201a8"
             ],
             [
              0.3333333333333333,
              "#9c179e"
             ],
             [
              0.4444444444444444,
              "#bd3786"
             ],
             [
              0.5555555555555556,
              "#d8576b"
             ],
             [
              0.6666666666666666,
              "#ed7953"
             ],
             [
              0.7777777777777778,
              "#fb9f3a"
             ],
             [
              0.8888888888888888,
              "#fdca26"
             ],
             [
              1,
              "#f0f921"
             ]
            ],
            "type": "heatmapgl"
           }
          ],
          "histogram": [
           {
            "marker": {
             "pattern": {
              "fillmode": "overlay",
              "size": 10,
              "solidity": 0.2
             }
            },
            "type": "histogram"
           }
          ],
          "histogram2d": [
           {
            "colorbar": {
             "outlinewidth": 0,
             "ticks": ""
            },
            "colorscale": [
             [
              0,
              "#0d0887"
             ],
             [
              0.1111111111111111,
              "#46039f"
             ],
             [
              0.2222222222222222,
              "#7201a8"
             ],
             [
              0.3333333333333333,
              "#9c179e"
             ],
             [
              0.4444444444444444,
              "#bd3786"
             ],
             [
              0.5555555555555556,
              "#d8576b"
             ],
             [
              0.6666666666666666,
              "#ed7953"
             ],
             [
              0.7777777777777778,
              "#fb9f3a"
             ],
             [
              0.8888888888888888,
              "#fdca26"
             ],
             [
              1,
              "#f0f921"
             ]
            ],
            "type": "histogram2d"
           }
          ],
          "histogram2dcontour": [
           {
            "colorbar": {
             "outlinewidth": 0,
             "ticks": ""
            },
            "colorscale": [
             [
              0,
              "#0d0887"
             ],
             [
              0.1111111111111111,
              "#46039f"
             ],
             [
              0.2222222222222222,
              "#7201a8"
             ],
             [
              0.3333333333333333,
              "#9c179e"
             ],
             [
              0.4444444444444444,
              "#bd3786"
             ],
             [
              0.5555555555555556,
              "#d8576b"
             ],
             [
              0.6666666666666666,
              "#ed7953"
             ],
             [
              0.7777777777777778,
              "#fb9f3a"
             ],
             [
              0.8888888888888888,
              "#fdca26"
             ],
             [
              1,
              "#f0f921"
             ]
            ],
            "type": "histogram2dcontour"
           }
          ],
          "mesh3d": [
           {
            "colorbar": {
             "outlinewidth": 0,
             "ticks": ""
            },
            "type": "mesh3d"
           }
          ],
          "parcoords": [
           {
            "line": {
             "colorbar": {
              "outlinewidth": 0,
              "ticks": ""
             }
            },
            "type": "parcoords"
           }
          ],
          "pie": [
           {
            "automargin": true,
            "type": "pie"
           }
          ],
          "scatter": [
           {
            "fillpattern": {
             "fillmode": "overlay",
             "size": 10,
             "solidity": 0.2
            },
            "type": "scatter"
           }
          ],
          "scatter3d": [
           {
            "line": {
             "colorbar": {
              "outlinewidth": 0,
              "ticks": ""
             }
            },
            "marker": {
             "colorbar": {
              "outlinewidth": 0,
              "ticks": ""
             }
            },
            "type": "scatter3d"
           }
          ],
          "scattercarpet": [
           {
            "marker": {
             "colorbar": {
              "outlinewidth": 0,
              "ticks": ""
             }
            },
            "type": "scattercarpet"
           }
          ],
          "scattergeo": [
           {
            "marker": {
             "colorbar": {
              "outlinewidth": 0,
              "ticks": ""
             }
            },
            "type": "scattergeo"
           }
          ],
          "scattergl": [
           {
            "marker": {
             "colorbar": {
              "outlinewidth": 0,
              "ticks": ""
             }
            },
            "type": "scattergl"
           }
          ],
          "scattermapbox": [
           {
            "marker": {
             "colorbar": {
              "outlinewidth": 0,
              "ticks": ""
             }
            },
            "type": "scattermapbox"
           }
          ],
          "scatterpolar": [
           {
            "marker": {
             "colorbar": {
              "outlinewidth": 0,
              "ticks": ""
             }
            },
            "type": "scatterpolar"
           }
          ],
          "scatterpolargl": [
           {
            "marker": {
             "colorbar": {
              "outlinewidth": 0,
              "ticks": ""
             }
            },
            "type": "scatterpolargl"
           }
          ],
          "scatterternary": [
           {
            "marker": {
             "colorbar": {
              "outlinewidth": 0,
              "ticks": ""
             }
            },
            "type": "scatterternary"
           }
          ],
          "surface": [
           {
            "colorbar": {
             "outlinewidth": 0,
             "ticks": ""
            },
            "colorscale": [
             [
              0,
              "#0d0887"
             ],
             [
              0.1111111111111111,
              "#46039f"
             ],
             [
              0.2222222222222222,
              "#7201a8"
             ],
             [
              0.3333333333333333,
              "#9c179e"
             ],
             [
              0.4444444444444444,
              "#bd3786"
             ],
             [
              0.5555555555555556,
              "#d8576b"
             ],
             [
              0.6666666666666666,
              "#ed7953"
             ],
             [
              0.7777777777777778,
              "#fb9f3a"
             ],
             [
              0.8888888888888888,
              "#fdca26"
             ],
             [
              1,
              "#f0f921"
             ]
            ],
            "type": "surface"
           }
          ],
          "table": [
           {
            "cells": {
             "fill": {
              "color": "#EBF0F8"
             },
             "line": {
              "color": "white"
             }
            },
            "header": {
             "fill": {
              "color": "#C8D4E3"
             },
             "line": {
              "color": "white"
             }
            },
            "type": "table"
           }
          ]
         },
         "layout": {
          "annotationdefaults": {
           "arrowcolor": "#2a3f5f",
           "arrowhead": 0,
           "arrowwidth": 1
          },
          "autotypenumbers": "strict",
          "coloraxis": {
           "colorbar": {
            "outlinewidth": 0,
            "ticks": ""
           }
          },
          "colorscale": {
           "diverging": [
            [
             0,
             "#8e0152"
            ],
            [
             0.1,
             "#c51b7d"
            ],
            [
             0.2,
             "#de77ae"
            ],
            [
             0.3,
             "#f1b6da"
            ],
            [
             0.4,
             "#fde0ef"
            ],
            [
             0.5,
             "#f7f7f7"
            ],
            [
             0.6,
             "#e6f5d0"
            ],
            [
             0.7,
             "#b8e186"
            ],
            [
             0.8,
             "#7fbc41"
            ],
            [
             0.9,
             "#4d9221"
            ],
            [
             1,
             "#276419"
            ]
           ],
           "sequential": [
            [
             0,
             "#0d0887"
            ],
            [
             0.1111111111111111,
             "#46039f"
            ],
            [
             0.2222222222222222,
             "#7201a8"
            ],
            [
             0.3333333333333333,
             "#9c179e"
            ],
            [
             0.4444444444444444,
             "#bd3786"
            ],
            [
             0.5555555555555556,
             "#d8576b"
            ],
            [
             0.6666666666666666,
             "#ed7953"
            ],
            [
             0.7777777777777778,
             "#fb9f3a"
            ],
            [
             0.8888888888888888,
             "#fdca26"
            ],
            [
             1,
             "#f0f921"
            ]
           ],
           "sequentialminus": [
            [
             0,
             "#0d0887"
            ],
            [
             0.1111111111111111,
             "#46039f"
            ],
            [
             0.2222222222222222,
             "#7201a8"
            ],
            [
             0.3333333333333333,
             "#9c179e"
            ],
            [
             0.4444444444444444,
             "#bd3786"
            ],
            [
             0.5555555555555556,
             "#d8576b"
            ],
            [
             0.6666666666666666,
             "#ed7953"
            ],
            [
             0.7777777777777778,
             "#fb9f3a"
            ],
            [
             0.8888888888888888,
             "#fdca26"
            ],
            [
             1,
             "#f0f921"
            ]
           ]
          },
          "colorway": [
           "#636efa",
           "#EF553B",
           "#00cc96",
           "#ab63fa",
           "#FFA15A",
           "#19d3f3",
           "#FF6692",
           "#B6E880",
           "#FF97FF",
           "#FECB52"
          ],
          "font": {
           "color": "#2a3f5f"
          },
          "geo": {
           "bgcolor": "white",
           "lakecolor": "white",
           "landcolor": "#E5ECF6",
           "showlakes": true,
           "showland": true,
           "subunitcolor": "white"
          },
          "hoverlabel": {
           "align": "left"
          },
          "hovermode": "closest",
          "mapbox": {
           "style": "light"
          },
          "paper_bgcolor": "white",
          "plot_bgcolor": "#E5ECF6",
          "polar": {
           "angularaxis": {
            "gridcolor": "white",
            "linecolor": "white",
            "ticks": ""
           },
           "bgcolor": "#E5ECF6",
           "radialaxis": {
            "gridcolor": "white",
            "linecolor": "white",
            "ticks": ""
           }
          },
          "scene": {
           "xaxis": {
            "backgroundcolor": "#E5ECF6",
            "gridcolor": "white",
            "gridwidth": 2,
            "linecolor": "white",
            "showbackground": true,
            "ticks": "",
            "zerolinecolor": "white"
           },
           "yaxis": {
            "backgroundcolor": "#E5ECF6",
            "gridcolor": "white",
            "gridwidth": 2,
            "linecolor": "white",
            "showbackground": true,
            "ticks": "",
            "zerolinecolor": "white"
           },
           "zaxis": {
            "backgroundcolor": "#E5ECF6",
            "gridcolor": "white",
            "gridwidth": 2,
            "linecolor": "white",
            "showbackground": true,
            "ticks": "",
            "zerolinecolor": "white"
           }
          },
          "shapedefaults": {
           "line": {
            "color": "#2a3f5f"
           }
          },
          "ternary": {
           "aaxis": {
            "gridcolor": "white",
            "linecolor": "white",
            "ticks": ""
           },
           "baxis": {
            "gridcolor": "white",
            "linecolor": "white",
            "ticks": ""
           },
           "bgcolor": "#E5ECF6",
           "caxis": {
            "gridcolor": "white",
            "linecolor": "white",
            "ticks": ""
           }
          },
          "title": {
           "x": 0.05
          },
          "xaxis": {
           "automargin": true,
           "gridcolor": "white",
           "linecolor": "white",
           "ticks": "",
           "title": {
            "standoff": 15
           },
           "zerolinecolor": "white",
           "zerolinewidth": 2
          },
          "yaxis": {
           "automargin": true,
           "gridcolor": "white",
           "linecolor": "white",
           "ticks": "",
           "title": {
            "standoff": 15
           },
           "zerolinecolor": "white",
           "zerolinewidth": 2
          }
         }
        },
        "xaxis": {
         "anchor": "y",
         "autorange": true,
         "domain": [
          0,
          1
         ],
         "range": [
          "2019-09-02 07:05",
          "2019-09-02 21:49"
         ],
         "title": {
          "text": "timestamp"
         },
         "type": "date"
        },
        "yaxis": {
         "anchor": "x",
         "domain": [
          0,
          1
         ],
         "range": [
          0,
          8
         ],
         "title": {
          "text": "count"
         },
         "type": "linear"
        }
       }
      },
      "image/png": "[encoded data removed]",
      "text/html": [
       "<div>                            <div id=\"7c7f5838-c17c-45dd-9aaa-dd6e87358fe0\" class=\"plotly-graph-div\" style=\"height:525px; width:100%;\"></div>            <script type=\"text/javascript\">                require([\"plotly\"], function(Plotly) {                    window.PLOTLYENV=window.PLOTLYENV || {};                                    if (document.getElementById(\"7c7f5838-c17c-45dd-9aaa-dd6e87358fe0\")) {                    Plotly.newPlot(                        \"7c7f5838-c17c-45dd-9aaa-dd6e87358fe0\",                        [{\"hovertemplate\":\"timestamp=%{x}<br>count=%{y}<extra></extra>\",\"legendgroup\":\"\",\"line\":{\"color\":\"#636efa\",\"dash\":\"solid\"},\"marker\":{\"symbol\":\"circle\"},\"mode\":\"lines\",\"name\":\"\",\"orientation\":\"v\",\"showlegend\":false,\"x\":[\"2019-09-02T07:05:00\",\"2019-09-02T07:06:00\",\"2019-09-02T07:07:00\",\"2019-09-02T07:08:00\",\"2019-09-02T07:09:00\",\"2019-09-02T07:10:00\",\"2019-09-02T07:11:00\",\"2019-09-02T07:12:00\",\"2019-09-02T07:13:00\",\"2019-09-02T07:14:00\",\"2019-09-02T07:15:00\",\"2019-09-02T07:16:00\",\"2019-09-02T07:17:00\",\"2019-09-02T07:18:00\",\"2019-09-02T07:19:00\",\"2019-09-02T07:20:00\",\"2019-09-02T07:21:00\",\"2019-09-02T07:22:00\",\"2019-09-02T07:23:00\",\"2019-09-02T07:24:00\",\"2019-09-02T07:26:00\",\"2019-09-02T07:27:00\",\"2019-09-02T07:28:00\",\"2019-09-02T07:29:00\",\"2019-09-02T07:30:00\",\"2019-09-02T07:31:00\",\"2019-09-02T07:32:00\",\"2019-09-02T07:33:00\",\"2019-09-02T07:35:00\",\"2019-09-02T07:36:00\",\"2019-09-02T07:37:00\",\"2019-09-02T07:38:00\",\"2019-09-02T07:39:00\",\"2019-09-02T07:40:00\",\"2019-09-02T07:41:00\",\"2019-09-02T07:43:00\",\"2019-09-02T07:44:00\",\"2019-09-02T07:45:00\",\"2019-09-02T07:46:00\",\"2019-09-02T07:47:00\",\"2019-09-02T07:48:00\",\"2019-09-02T07:49:00\",\"2019-09-02T07:50:00\",\"2019-09-02T07:51:00\",\"2019-09-02T07:52:00\",\"2019-09-02T07:53:00\",\"2019-09-02T07:54:00\",\"2019-09-02T07:55:00\",\"2019-09-02T07:57:00\",\"2019-09-02T07:59:00\",\"2019-09-02T08:00:00\",\"2019-09-02T08:01:00\",\"2019-09-02T08:02:00\",\"2019-09-02T08:03:00\",\"2019-09-02T08:06:00\",\"2019-09-02T08:07:00\",\"2019-09-02T08:08:00\",\"2019-09-02T08:11:00\",\"2019-09-02T08:12:00\",\"2019-09-02T08:13:00\",\"2019-09-02T08:14:00\",\"2019-09-02T08:15:00\",\"2019-09-02T08:16:00\",\"2019-09-02T08:17:00\",\"2019-09-02T08:18:00\",\"2019-09-02T08:19:00\",\"2019-09-02T08:21:00\",\"2019-09-02T08:22:00\",\"2019-09-02T08:23:00\",\"2019-09-02T08:24:00\",\"2019-09-02T08:25:00\",\"2019-09-02T08:26:00\",\"2019-09-02T08:27:00\",\"2019-09-02T08:28:00\",\"2019-09-02T08:29:00\",\"2019-09-02T08:30:00\",\"2019-09-02T08:32:00\",\"2019-09-02T08:33:00\",\"2019-09-02T08:35:00\",\"2019-09-02T08:36:00\",\"2019-09-02T08:38:00\",\"2019-09-02T08:39:00\",\"2019-09-02T08:40:00\",\"2019-09-02T08:41:00\",\"2019-09-02T08:42:00\",\"2019-09-02T08:43:00\",\"2019-09-02T08:44:00\",\"2019-09-02T08:45:00\",\"2019-09-02T08:46:00\",\"2019-09-02T08:47:00\",\"2019-09-02T08:48:00\",\"2019-09-02T08:49:00\",\"2019-09-02T08:50:00\",\"2019-09-02T08:51:00\",\"2019-09-02T08:52:00\",\"2019-09-02T08:53:00\",\"2019-09-02T08:54:00\",\"2019-09-02T08:55:00\",\"2019-09-02T08:56:00\",\"2019-09-02T08:57:00\",\"2019-09-02T08:58:00\",\"2019-09-02T08:59:00\",\"2019-09-02T09:00:00\",\"2019-09-02T09:02:00\",\"2019-09-02T09:06:00\",\"2019-09-02T09:07:00\",\"2019-09-02T09:09:00\",\"2019-09-02T09:10:00\",\"2019-09-02T09:11:00\",\"2019-09-02T09:12:00\",\"2019-09-02T09:13:00\",\"2019-09-02T09:14:00\",\"2019-09-02T09:16:00\",\"2019-09-02T09:20:00\",\"2019-09-02T09:21:00\",\"2019-09-02T09:22:00\",\"2019-09-02T09:23:00\",\"2019-09-02T09:24:00\",\"2019-09-02T09:25:00\",\"2019-09-02T09:27:00\",\"2019-09-02T09:30:00\",\"2019-09-02T09:31:00\",\"2019-09-02T09:32:00\",\"2019-09-02T09:33:00\",\"2019-09-02T09:34:00\",\"2019-09-02T09:35:00\",\"2019-09-02T09:36:00\",\"2019-09-02T09:38:00\",\"2019-09-02T09:39:00\",\"2019-09-02T09:40:00\",\"2019-09-02T09:41:00\",\"2019-09-02T09:42:00\",\"2019-09-02T09:43:00\",\"2019-09-02T09:44:00\",\"2019-09-02T09:45:00\",\"2019-09-02T09:46:00\",\"2019-09-02T09:47:00\",\"2019-09-02T09:49:00\",\"2019-09-02T09:52:00\",\"2019-09-02T09:53:00\",\"2019-09-02T09:54:00\",\"2019-09-02T09:55:00\",\"2019-09-02T09:56:00\",\"2019-09-02T09:57:00\",\"2019-09-02T09:58:00\",\"2019-09-02T10:00:00\",\"2019-09-02T10:01:00\",\"2019-09-02T10:02:00\",\"2019-09-02T10:03:00\",\"2019-09-02T10:04:00\",\"2019-09-02T10:07:00\",\"2019-09-02T10:08:00\",\"2019-09-02T10:09:00\",\"2019-09-02T10:10:00\",\"2019-09-02T10:13:00\",\"2019-09-02T10:14:00\",\"2019-09-02T10:15:00\",\"2019-09-02T10:17:00\",\"2019-09-02T10:18:00\",\"2019-09-02T10:19:00\",\"2019-09-02T10:20:00\",\"2019-09-02T10:21:00\",\"2019-09-02T10:22:00\",\"2019-09-02T10:23:00\",\"2019-09-02T10:24:00\",\"2019-09-02T10:25:00\",\"2019-09-02T10:28:00\",\"2019-09-02T10:30:00\",\"2019-09-02T10:32:00\",\"2019-09-02T10:34:00\",\"2019-09-02T10:35:00\",\"2019-09-02T10:36:00\",\"2019-09-02T10:37:00\",\"2019-09-02T10:38:00\",\"2019-09-02T10:39:00\",\"2019-09-02T10:40:00\",\"2019-09-02T10:42:00\",\"2019-09-02T10:43:00\",\"2019-09-02T10:44:00\",\"2019-09-02T10:46:00\",\"2019-09-02T10:47:00\",\"2019-09-02T10:48:00\",\"2019-09-02T10:49:00\",\"2019-09-02T10:50:00\",\"2019-09-02T10:51:00\",\"2019-09-02T10:52:00\",\"2019-09-02T10:53:00\",\"2019-09-02T10:54:00\",\"2019-09-02T10:55:00\",\"2019-09-02T10:56:00\",\"2019-09-02T10:58:00\",\"2019-09-02T11:00:00\",\"2019-09-02T11:02:00\",\"2019-09-02T11:05:00\",\"2019-09-02T11:06:00\",\"2019-09-02T11:09:00\",\"2019-09-02T11:10:00\",\"2019-09-02T11:12:00\",\"2019-09-02T11:13:00\",\"2019-09-02T11:16:00\",\"2019-09-02T11:20:00\",\"2019-09-02T11:21:00\",\"2019-09-02T11:22:00\",\"2019-09-02T11:23:00\",\"2019-09-02T11:24:00\",\"2019-09-02T11:25:00\",\"2019-09-02T11:26:00\",\"2019-09-02T11:28:00\",\"2019-09-02T11:29:00\",\"2019-09-02T11:30:00\",\"2019-09-02T11:33:00\",\"2019-09-02T11:34:00\",\"2019-09-02T11:36:00\",\"2019-09-02T11:37:00\",\"2019-09-02T11:38:00\",\"2019-09-02T11:41:00\",\"2019-09-02T11:42:00\",\"2019-09-02T11:44:00\",\"2019-09-02T11:47:00\",\"2019-09-02T11:49:00\",\"2019-09-02T11:50:00\",\"2019-09-02T11:52:00\",\"2019-09-02T11:53:00\",\"2019-09-02T11:54:00\",\"2019-09-02T11:55:00\",\"2019-09-02T11:57:00\",\"2019-09-02T11:59:00\",\"2019-09-02T12:00:00\",\"2019-09-02T12:03:00\",\"2019-09-02T12:05:00\",\"2019-09-02T12:06:00\",\"2019-09-02T12:08:00\",\"2019-09-02T12:09:00\",\"2019-09-02T12:11:00\",\"2019-09-02T12:13:00\",\"2019-09-02T12:14:00\",\"2019-09-02T12:15:00\",\"2019-09-02T12:17:00\",\"2019-09-02T12:18:00\",\"2019-09-02T12:19:00\",\"2019-09-02T12:20:00\",\"2019-09-02T12:22:00\",\"2019-09-02T12:23:00\",\"2019-09-02T12:24:00\",\"2019-09-02T12:25:00\",\"2019-09-02T12:26:00\",\"2019-09-02T12:27:00\",\"2019-09-02T12:28:00\",\"2019-09-02T12:29:00\",\"2019-09-02T12:30:00\",\"2019-09-02T12:31:00\",\"2019-09-02T12:32:00\",\"2019-09-02T12:33:00\",\"2019-09-02T12:34:00\",\"2019-09-02T12:35:00\",\"2019-09-02T12:36:00\",\"2019-09-02T12:37:00\",\"2019-09-02T12:38:00\",\"2019-09-02T12:40:00\",\"2019-09-02T12:41:00\",\"2019-09-02T12:43:00\",\"2019-09-02T12:45:00\",\"2019-09-02T12:47:00\",\"2019-09-02T12:48:00\",\"2019-09-02T12:49:00\",\"2019-09-02T12:50:00\",\"2019-09-02T12:51:00\",\"2019-09-02T12:55:00\",\"2019-09-02T12:56:00\",\"2019-09-02T12:58:00\",\"2019-09-02T12:59:00\",\"2019-09-02T13:00:00\",\"2019-09-02T13:01:00\",\"2019-09-02T13:02:00\",\"2019-09-02T13:03:00\",\"2019-09-02T13:04:00\",\"2019-09-02T13:05:00\",\"2019-09-02T13:06:00\",\"2019-09-02T13:07:00\",\"2019-09-02T13:08:00\",\"2019-09-02T13:09:00\",\"2019-09-02T13:10:00\",\"2019-09-02T13:11:00\",\"2019-09-02T13:12:00\",\"2019-09-02T13:13:00\",\"2019-09-02T13:14:00\",\"2019-09-02T13:15:00\",\"2019-09-02T13:16:00\",\"2019-09-02T13:17:00\",\"2019-09-02T13:18:00\",\"2019-09-02T13:19:00\",\"2019-09-02T13:20:00\",\"2019-09-02T13:21:00\",\"2019-09-02T13:22:00\",\"2019-09-02T13:24:00\",\"2019-09-02T13:25:00\",\"2019-09-02T13:26:00\",\"2019-09-02T13:27:00\",\"2019-09-02T13:28:00\",\"2019-09-02T13:30:00\",\"2019-09-02T13:31:00\",\"2019-09-02T13:32:00\",\"2019-09-02T13:33:00\",\"2019-09-02T13:34:00\",\"2019-09-02T13:35:00\",\"2019-09-02T13:37:00\",\"2019-09-02T13:39:00\",\"2019-09-02T13:40:00\",\"2019-09-02T13:41:00\",\"2019-09-02T13:42:00\",\"2019-09-02T13:43:00\",\"2019-09-02T13:44:00\",\"2019-09-02T13:45:00\",\"2019-09-02T13:46:00\",\"2019-09-02T13:47:00\",\"2019-09-02T13:48:00\",\"2019-09-02T13:49:00\",\"2019-09-02T13:50:00\",\"2019-09-02T13:51:00\",\"2019-09-02T13:52:00\",\"2019-09-02T13:53:00\",\"2019-09-02T13:54:00\",\"2019-09-02T13:56:00\",\"2019-09-02T13:58:00\",\"2019-09-02T13:59:00\",\"2019-09-02T14:00:00\",\"2019-09-02T14:03:00\",\"2019-09-02T14:04:00\",\"2019-09-02T14:05:00\",\"2019-09-02T14:06:00\",\"2019-09-02T14:07:00\",\"2019-09-02T14:08:00\",\"2019-09-02T14:09:00\",\"2019-09-02T14:10:00\",\"2019-09-02T14:11:00\",\"2019-09-02T14:12:00\",\"2019-09-02T14:13:00\",\"2019-09-02T14:14:00\",\"2019-09-02T14:15:00\",\"2019-09-02T14:16:00\",\"2019-09-02T14:18:00\",\"2019-09-02T14:21:00\",\"2019-09-02T14:22:00\",\"2019-09-02T14:23:00\",\"2019-09-02T14:24:00\",\"2019-09-02T14:25:00\",\"2019-09-02T14:26:00\",\"2019-09-02T14:27:00\",\"2019-09-02T14:28:00\",\"2019-09-02T14:29:00\",\"2019-09-02T14:30:00\",\"2019-09-02T14:31:00\",\"2019-09-02T14:32:00\",\"2019-09-02T14:34:00\",\"2019-09-02T14:35:00\",\"2019-09-02T14:37:00\",\"2019-09-02T14:38:00\",\"2019-09-02T14:39:00\",\"2019-09-02T14:42:00\",\"2019-09-02T14:43:00\",\"2019-09-02T14:44:00\",\"2019-09-02T14:45:00\",\"2019-09-02T14:47:00\",\"2019-09-02T14:48:00\",\"2019-09-02T14:49:00\",\"2019-09-02T14:50:00\",\"2019-09-02T14:51:00\",\"2019-09-02T14:53:00\",\"2019-09-02T14:54:00\",\"2019-09-02T14:55:00\",\"2019-09-02T14:56:00\",\"2019-09-02T15:00:00\",\"2019-09-02T15:01:00\",\"2019-09-02T15:03:00\",\"2019-09-02T15:05:00\",\"2019-09-02T15:07:00\",\"2019-09-02T15:08:00\",\"2019-09-02T15:09:00\",\"2019-09-02T15:11:00\",\"2019-09-02T15:12:00\",\"2019-09-02T15:13:00\",\"2019-09-02T15:14:00\",\"2019-09-02T15:15:00\",\"2019-09-02T15:16:00\",\"2019-09-02T15:17:00\",\"2019-09-02T15:18:00\",\"2019-09-02T15:19:00\",\"2019-09-02T15:20:00\",\"2019-09-02T15:21:00\",\"2019-09-02T15:22:00\",\"2019-09-02T15:23:00\",\"2019-09-02T15:25:00\",\"2019-09-02T15:26:00\",\"2019-09-02T15:27:00\",\"2019-09-02T15:29:00\",\"2019-09-02T15:30:00\",\"2019-09-02T15:31:00\",\"2019-09-02T15:32:00\",\"2019-09-02T15:34:00\",\"2019-09-02T15:35:00\",\"2019-09-02T15:37:00\",\"2019-09-02T15:39:00\",\"2019-09-02T15:40:00\",\"2019-09-02T15:41:00\",\"2019-09-02T15:42:00\",\"2019-09-02T15:44:00\",\"2019-09-02T15:45:00\",\"2019-09-02T15:46:00\",\"2019-09-02T15:47:00\",\"2019-09-02T15:48:00\",\"2019-09-02T15:49:00\",\"2019-09-02T15:50:00\",\"2019-09-02T15:51:00\",\"2019-09-02T15:52:00\",\"2019-09-02T15:54:00\",\"2019-09-02T15:56:00\",\"2019-09-02T15:57:00\",\"2019-09-02T15:58:00\",\"2019-09-02T16:00:00\",\"2019-09-02T16:02:00\",\"2019-09-02T16:03:00\",\"2019-09-02T16:04:00\",\"2019-09-02T16:06:00\",\"2019-09-02T16:07:00\",\"2019-09-02T16:10:00\",\"2019-09-02T16:11:00\",\"2019-09-02T16:13:00\",\"2019-09-02T16:17:00\",\"2019-09-02T16:21:00\",\"2019-09-02T16:22:00\",\"2019-09-02T16:24:00\",\"2019-09-02T16:25:00\",\"2019-09-02T16:27:00\",\"2019-09-02T16:28:00\",\"2019-09-02T16:30:00\",\"2019-09-02T16:31:00\",\"2019-09-02T16:32:00\",\"2019-09-02T16:33:00\",\"2019-09-02T16:35:00\",\"2019-09-02T16:36:00\",\"2019-09-02T16:37:00\",\"2019-09-02T16:38:00\",\"2019-09-02T16:39:00\",\"2019-09-02T16:40:00\",\"2019-09-02T16:41:00\",\"2019-09-02T16:42:00\",\"2019-09-02T16:44:00\",\"2019-09-02T16:45:00\",\"2019-09-02T16:46:00\",\"2019-09-02T16:47:00\",\"2019-09-02T16:48:00\",\"2019-09-02T16:49:00\",\"2019-09-02T16:50:00\",\"2019-09-02T16:51:00\",\"2019-09-02T16:52:00\",\"2019-09-02T16:53:00\",\"2019-09-02T16:54:00\",\"2019-09-02T16:55:00\",\"2019-09-02T16:56:00\",\"2019-09-02T16:58:00\",\"2019-09-02T16:59:00\",\"2019-09-02T17:00:00\",\"2019-09-02T17:01:00\",\"2019-09-02T17:02:00\",\"2019-09-02T17:03:00\",\"2019-09-02T17:04:00\",\"2019-09-02T17:07:00\",\"2019-09-02T17:08:00\",\"2019-09-02T17:09:00\",\"2019-09-02T17:10:00\",\"2019-09-02T17:11:00\",\"2019-09-02T17:12:00\",\"2019-09-02T17:14:00\",\"2019-09-02T17:15:00\",\"2019-09-02T17:16:00\",\"2019-09-02T17:17:00\",\"2019-09-02T17:18:00\",\"2019-09-02T17:20:00\",\"2019-09-02T17:21:00\",\"2019-09-02T17:22:00\",\"2019-09-02T17:23:00\",\"2019-09-02T17:24:00\",\"2019-09-02T17:25:00\",\"2019-09-02T17:26:00\",\"2019-09-02T17:27:00\",\"2019-09-02T17:29:00\",\"2019-09-02T17:30:00\",\"2019-09-02T17:31:00\",\"2019-09-02T17:32:00\",\"2019-09-02T17:33:00\",\"2019-09-02T17:34:00\",\"2019-09-02T17:35:00\",\"2019-09-02T17:36:00\",\"2019-09-02T17:37:00\",\"2019-09-02T17:38:00\",\"2019-09-02T17:39:00\",\"2019-09-02T17:40:00\",\"2019-09-02T17:41:00\",\"2019-09-02T17:42:00\",\"2019-09-02T17:43:00\",\"2019-09-02T17:44:00\",\"2019-09-02T17:45:00\",\"2019-09-02T17:46:00\",\"2019-09-02T17:47:00\",\"2019-09-02T17:48:00\",\"2019-09-02T17:49:00\",\"2019-09-02T17:50:00\",\"2019-09-02T17:51:00\",\"2019-09-02T17:52:00\",\"2019-09-02T17:53:00\",\"2019-09-02T17:55:00\",\"2019-09-02T17:57:00\",\"2019-09-02T17:58:00\",\"2019-09-02T17:59:00\",\"2019-09-02T18:00:00\",\"2019-09-02T18:01:00\",\"2019-09-02T18:03:00\",\"2019-09-02T18:04:00\",\"2019-09-02T18:05:00\",\"2019-09-02T18:06:00\",\"2019-09-02T18:07:00\",\"2019-09-02T18:08:00\",\"2019-09-02T18:09:00\",\"2019-09-02T18:10:00\",\"2019-09-02T18:11:00\",\"2019-09-02T18:12:00\",\"2019-09-02T18:13:00\",\"2019-09-02T18:14:00\",\"2019-09-02T18:15:00\",\"2019-09-02T18:16:00\",\"2019-09-02T18:17:00\",\"2019-09-02T18:18:00\",\"2019-09-02T18:19:00\",\"2019-09-02T18:20:00\",\"2019-09-02T18:21:00\",\"2019-09-02T18:22:00\",\"2019-09-02T18:23:00\",\"2019-09-02T18:24:00\",\"2019-09-02T18:25:00\",\"2019-09-02T18:26:00\",\"2019-09-02T18:27:00\",\"2019-09-02T18:28:00\",\"2019-09-02T18:29:00\",\"2019-09-02T18:30:00\",\"2019-09-02T18:31:00\",\"2019-09-02T18:32:00\",\"2019-09-02T18:33:00\",\"2019-09-02T18:35:00\",\"2019-09-02T18:36:00\",\"2019-09-02T18:37:00\",\"2019-09-02T18:38:00\",\"2019-09-02T18:39:00\",\"2019-09-02T18:40:00\",\"2019-09-02T18:41:00\",\"2019-09-02T18:42:00\",\"2019-09-02T18:43:00\",\"2019-09-02T18:44:00\",\"2019-09-02T18:45:00\",\"2019-09-02T18:46:00\",\"2019-09-02T18:47:00\",\"2019-09-02T18:49:00\",\"2019-09-02T18:50:00\",\"2019-09-02T18:51:00\",\"2019-09-02T18:52:00\",\"2019-09-02T18:53:00\",\"2019-09-02T18:54:00\",\"2019-09-02T18:57:00\",\"2019-09-02T18:58:00\",\"2019-09-02T18:59:00\",\"2019-09-02T19:00:00\",\"2019-09-02T19:01:00\",\"2019-09-02T19:02:00\",\"2019-09-02T19:03:00\",\"2019-09-02T19:04:00\",\"2019-09-02T19:05:00\",\"2019-09-02T19:06:00\",\"2019-09-02T19:07:00\",\"2019-09-02T19:08:00\",\"2019-09-02T19:09:00\",\"2019-09-02T19:10:00\",\"2019-09-02T19:11:00\",\"2019-09-02T19:12:00\",\"2019-09-02T19:13:00\",\"2019-09-02T19:14:00\",\"2019-09-02T19:15:00\",\"2019-09-02T19:16:00\",\"2019-09-02T19:17:00\",\"2019-09-02T19:18:00\",\"2019-09-02T19:19:00\",\"2019-09-02T19:20:00\",\"2019-09-02T19:21:00\",\"2019-09-02T19:22:00\",\"2019-09-02T19:24:00\",\"2019-09-02T19:26:00\",\"2019-09-02T19:27:00\",\"2019-09-02T19:28:00\",\"2019-09-02T19:29:00\",\"2019-09-02T19:30:00\",\"2019-09-02T19:33:00\",\"2019-09-02T19:35:00\",\"2019-09-02T19:36:00\",\"2019-09-02T19:37:00\",\"2019-09-02T19:38:00\",\"2019-09-02T19:39:00\",\"2019-09-02T19:40:00\",\"2019-09-02T19:41:00\",\"2019-09-02T19:42:00\",\"2019-09-02T19:43:00\",\"2019-09-02T19:44:00\",\"2019-09-02T19:45:00\",\"2019-09-02T19:46:00\",\"2019-09-02T19:47:00\",\"2019-09-02T19:48:00\",\"2019-09-02T19:49:00\",\"2019-09-02T19:50:00\",\"2019-09-02T19:52:00\",\"2019-09-02T19:53:00\",\"2019-09-02T19:54:00\",\"2019-09-02T19:55:00\",\"2019-09-02T19:56:00\",\"2019-09-02T19:57:00\",\"2019-09-02T19:58:00\",\"2019-09-02T19:59:00\",\"2019-09-02T20:00:00\",\"2019-09-02T20:01:00\",\"2019-09-02T20:02:00\",\"2019-09-02T20:03:00\",\"2019-09-02T20:06:00\",\"2019-09-02T20:08:00\",\"2019-09-02T20:09:00\",\"2019-09-02T20:10:00\",\"2019-09-02T20:11:00\",\"2019-09-02T20:12:00\",\"2019-09-02T20:13:00\",\"2019-09-02T20:14:00\",\"2019-09-02T20:15:00\",\"2019-09-02T20:16:00\",\"2019-09-02T20:17:00\",\"2019-09-02T20:18:00\",\"2019-09-02T20:19:00\",\"2019-09-02T20:20:00\",\"2019-09-02T20:22:00\",\"2019-09-02T20:23:00\",\"2019-09-02T20:25:00\",\"2019-09-02T20:27:00\",\"2019-09-02T20:30:00\",\"2019-09-02T20:33:00\",\"2019-09-02T20:34:00\",\"2019-09-02T20:35:00\",\"2019-09-02T20:37:00\",\"2019-09-02T20:38:00\",\"2019-09-02T20:39:00\",\"2019-09-02T20:40:00\",\"2019-09-02T20:42:00\",\"2019-09-02T20:43:00\",\"2019-09-02T20:44:00\",\"2019-09-02T20:45:00\",\"2019-09-02T20:46:00\",\"2019-09-02T20:48:00\",\"2019-09-02T20:49:00\",\"2019-09-02T20:50:00\",\"2019-09-02T20:51:00\",\"2019-09-02T20:52:00\",\"2019-09-02T20:53:00\",\"2019-09-02T20:54:00\",\"2019-09-02T20:55:00\",\"2019-09-02T20:56:00\",\"2019-09-02T20:58:00\",\"2019-09-02T20:59:00\",\"2019-09-02T21:01:00\",\"2019-09-02T21:02:00\",\"2019-09-02T21:03:00\",\"2019-09-02T21:05:00\",\"2019-09-02T21:07:00\",\"2019-09-02T21:08:00\",\"2019-09-02T21:09:00\",\"2019-09-02T21:11:00\",\"2019-09-02T21:12:00\",\"2019-09-02T21:13:00\",\"2019-09-02T21:14:00\",\"2019-09-02T21:16:00\",\"2019-09-02T21:17:00\",\"2019-09-02T21:18:00\",\"2019-09-02T21:21:00\",\"2019-09-02T21:23:00\",\"2019-09-02T21:27:00\",\"2019-09-02T21:28:00\",\"2019-09-02T21:29:00\",\"2019-09-02T21:30:00\",\"2019-09-02T21:31:00\",\"2019-09-02T21:32:00\",\"2019-09-02T21:33:00\",\"2019-09-02T21:34:00\",\"2019-09-02T21:36:00\",\"2019-09-02T21:37:00\",\"2019-09-02T21:44:00\",\"2019-09-02T21:46:00\",\"2019-09-02T21:47:00\",\"2019-09-02T21:48:00\",\"2019-09-02T21:49:00\"],\"xaxis\":\"x\",\"y\":[2,2,1,3,1,1,1,1,2,1,1,2,2,2,1,3,1,3,1,1,1,4,2,2,1,1,3,4,1,2,1,1,2,1,1,2,2,1,1,3,3,2,5,2,4,1,3,1,2,1,2,2,2,3,1,2,2,3,2,1,1,2,3,3,2,2,2,2,1,1,3,3,2,1,1,2,2,4,1,1,3,1,1,2,1,1,6,4,2,2,1,2,7,2,1,2,3,1,2,5,2,2,3,1,1,3,2,1,1,2,3,1,2,2,1,3,3,1,1,2,1,3,1,2,1,2,2,3,2,3,2,2,2,5,4,3,1,1,2,1,1,2,3,2,1,1,2,2,1,1,3,3,4,1,3,2,3,1,3,4,4,1,2,1,1,2,1,1,1,1,1,2,2,1,2,2,1,3,4,4,2,1,1,3,3,2,1,3,1,1,1,1,1,1,1,1,2,2,2,1,1,1,1,2,4,4,1,2,2,1,2,2,1,2,1,1,1,1,1,1,1,1,1,2,2,1,3,2,2,1,1,2,1,3,1,1,2,1,2,1,1,1,3,1,1,1,1,2,2,3,1,2,2,1,1,1,3,1,2,1,2,1,1,1,2,4,1,1,3,4,2,1,4,1,1,1,1,1,3,2,1,2,1,1,1,3,1,3,3,3,1,3,1,1,5,1,3,4,2,1,1,1,4,1,5,4,3,3,1,1,1,2,1,2,3,3,5,3,3,3,3,2,4,2,3,2,3,1,2,1,1,2,2,1,2,2,1,1,2,2,2,4,1,1,1,6,3,3,1,2,2,2,1,1,1,2,1,1,3,1,4,2,3,1,2,1,2,5,1,3,2,2,2,1,3,3,3,1,1,2,4,3,3,2,2,1,2,2,2,3,2,3,1,2,2,4,2,1,1,4,2,1,3,2,1,3,2,1,1,3,1,1,3,1,1,1,1,2,3,1,1,1,1,2,2,1,1,3,1,1,2,1,1,3,2,1,1,1,1,1,3,2,1,1,2,3,1,2,4,3,1,5,3,4,1,1,1,5,3,5,3,2,4,4,1,3,4,3,3,2,1,1,2,1,1,5,2,3,2,5,6,2,1,2,2,1,4,1,2,2,3,2,4,2,1,1,2,2,1,1,2,1,1,1,1,3,4,2,3,1,2,2,4,4,3,3,1,4,1,3,2,2,1,2,1,3,3,1,5,2,1,2,5,3,4,2,5,1,1,1,1,2,2,1,1,1,2,2,2,4,3,4,2,2,2,3,4,2,3,5,2,1,1,1,2,2,4,2,3,5,2,2,6,3,1,2,2,1,5,1,5,1,1,2,6,2,1,4,2,1,1,1,4,2,2,1,1,1,1,5,2,1,2,3,1,2,2,4,2,2,2,2,2,1,1,2,5,7,7,1,2,1,1,2,2,2,3,2,1,2,2,2,1,3,2,1,2,2,3,1,3,1,1,3,1,2,2,2,2,4,1,4,2,3,1,4,4,2,6,3,2,2,1,4,4,4,3,3,2,2,1,1,1,5,2,3,3,1,3,1,1,2,1,1,1,1,1,2,2,1,2,3,1,1,1,1,1,2,2,2],\"yaxis\":\"y\",\"type\":\"scatter\"}],                        {\"template\":{\"data\":{\"histogram2dcontour\":[{\"type\":\"histogram2dcontour\",\"colorbar\":{\"outlinewidth\":0,\"ticks\":\"\"},\"colorscale\":[[0.0,\"#0d0887\"],[0.1111111111111111,\"#46039f\"],[0.2222222222222222,\"#7201a8\"],[0.3333333333333333,\"#9c179e\"],[0.4444444444444444,\"#bd3786\"],[0.5555555555555556,\"#d8576b\"],[0.6666666666666666,\"#ed7953\"],[0.7777777777777778,\"#fb9f3a\"],[0.8888888888888888,\"#fdca26\"],[1.0,\"#f0f921\"]]}],\"choropleth\":[{\"type\":\"choropleth\",\"colorbar\":{\"outlinewidth\":0,\"ticks\":\"\"}}],\"histogram2d\":[{\"type\":\"histogram2d\",\"colorbar\":{\"outlinewidth\":0,\"ticks\":\"\"},\"colorscale\":[[0.0,\"#0d0887\"],[0.1111111111111111,\"#46039f\"],[0.2222222222222222,\"#7201a8\"],[0.3333333333333333,\"#9c179e\"],[0.4444444444444444,\"#bd3786\"],[0.5555555555555556,\"#d8576b\"],[0.6666666666666666,\"#ed7953\"],[0.7777777777777778,\"#fb9f3a\"],[0.8888888888888888,\"#fdca26\"],[1.0,\"#f0f921\"]]}],\"heatmap\":[{\"type\":\"heatmap\",\"colorbar\":{\"outlinewidth\":0,\"ticks\":\"\"},\"colorscale\":[[0.0,\"#0d0887\"],[0.1111111111111111,\"#46039f\"],[0.2222222222222222,\"#7201a8\"],[0.3333333333333333,\"#9c179e\"],[0.4444444444444444,\"#bd3786\"],[0.5555555555555556,\"#d8576b\"],[0.6666666666666666,\"#ed7953\"],[0.7777777777777778,\"#fb9f3a\"],[0.8888888888888888,\"#fdca26\"],[1.0,\"#f0f921\"]]}],\"heatmapgl\":[{\"type\":\"heatmapgl\",\"colorbar\":{\"outlinewidth\":0,\"ticks\":\"\"},\"colorscale\":[[0.0,\"#0d0887\"],[0.1111111111111111,\"#46039f\"],[0.2222222222222222,\"#7201a8\"],[0.3333333333333333,\"#9c179e\"],[0.4444444444444444,\"#bd3786\"],[0.5555555555555556,\"#d8576b\"],[0.6666666666666666,\"#ed7953\"],[0.7777777777777778,\"#fb9f3a\"],[0.8888888888888888,\"#fdca26\"],[1.0,\"#f0f921\"]]}],\"contourcarpet\":[{\"type\":\"contourcarpet\",\"colorbar\":{\"outlinewidth\":0,\"ticks\":\"\"}}],\"contour\":[{\"type\":\"contour\",\"colorbar\":{\"outlinewidth\":0,\"ticks\":\"\"},\"colorscale\":[[0.0,\"#0d0887\"],[0.1111111111111111,\"#46039f\"],[0.2222222222222222,\"#7201a8\"],[0.3333333333333333,\"#9c179e\"],[0.4444444444444444,\"#bd3786\"],[0.5555555555555556,\"#d8576b\"],[0.6666666666666666,\"#ed7953\"],[0.7777777777777778,\"#fb9f3a\"],[0.8888888888888888,\"#fdca26\"],[1.0,\"#f0f921\"]]}],\"surface\":[{\"type\":\"surface\",\"colorbar\":{\"outlinewidth\":0,\"ticks\":\"\"},\"colorscale\":[[0.0,\"#0d0887\"],[0.1111111111111111,\"#46039f\"],[0.2222222222222222,\"#7201a8\"],[0.3333333333333333,\"#9c179e\"],[0.4444444444444444,\"#bd3786\"],[0.5555555555555556,\"#d8576b\"],[0.6666666666666666,\"#ed7953\"],[0.7777777777777778,\"#fb9f3a\"],[0.8888888888888888,\"#fdca26\"],[1.0,\"#f0f921\"]]}],\"mesh3d\":[{\"type\":\"mesh3d\",\"colorbar\":{\"outlinewidth\":0,\"ticks\":\"\"}}],\"scatter\":[{\"fillpattern\":{\"fillmode\":\"overlay\",\"size\":10,\"solidity\":0.2},\"type\":\"scatter\"}],\"parcoords\":[{\"type\":\"parcoords\",\"line\":{\"colorbar\":{\"outlinewidth\":0,\"ticks\":\"\"}}}],\"scatterpolargl\":[{\"type\":\"scatterpolargl\",\"marker\":{\"colorbar\":{\"outlinewidth\":0,\"ticks\":\"\"}}}],\"bar\":[{\"error_x\":{\"color\":\"#2a3f5f\"},\"error_y\":{\"color\":\"#2a3f5f\"},\"marker\":{\"line\":{\"color\":\"#E5ECF6\",\"width\":0.5},\"pattern\":{\"fillmode\":\"overlay\",\"size\":10,\"solidity\":0.2}},\"type\":\"bar\"}],\"scattergeo\":[{\"type\":\"scattergeo\",\"marker\":{\"colorbar\":{\"outlinewidth\":0,\"ticks\":\"\"}}}],\"scatterpolar\":[{\"type\":\"scatterpolar\",\"marker\":{\"colorbar\":{\"outlinewidth\":0,\"ticks\":\"\"}}}],\"histogram\":[{\"marker\":{\"pattern\":{\"fillmode\":\"overlay\",\"size\":10,\"solidity\":0.2}},\"type\":\"histogram\"}],\"scattergl\":[{\"type\":\"scattergl\",\"marker\":{\"colorbar\":{\"outlinewidth\":0,\"ticks\":\"\"}}}],\"scatter3d\":[{\"type\":\"scatter3d\",\"line\":{\"colorbar\":{\"outlinewidth\":0,\"ticks\":\"\"}},\"marker\":{\"colorbar\":{\"outlinewidth\":0,\"ticks\":\"\"}}}],\"scattermapbox\":[{\"type\":\"scattermapbox\",\"marker\":{\"colorbar\":{\"outlinewidth\":0,\"ticks\":\"\"}}}],\"scatterternary\":[{\"type\":\"scatterternary\",\"marker\":{\"colorbar\":{\"outlinewidth\":0,\"ticks\":\"\"}}}],\"scattercarpet\":[{\"type\":\"scattercarpet\",\"marker\":{\"colorbar\":{\"outlinewidth\":0,\"ticks\":\"\"}}}],\"carpet\":[{\"aaxis\":{\"endlinecolor\":\"#2a3f5f\",\"gridcolor\":\"white\",\"linecolor\":\"white\",\"minorgridcolor\":\"white\",\"startlinecolor\":\"#2a3f5f\"},\"baxis\":{\"endlinecolor\":\"#2a3f5f\",\"gridcolor\":\"white\",\"linecolor\":\"white\",\"minorgridcolor\":\"white\",\"startlinecolor\":\"#2a3f5f\"},\"type\":\"carpet\"}],\"table\":[{\"cells\":{\"fill\":{\"color\":\"#EBF0F8\"},\"line\":{\"color\":\"white\"}},\"header\":{\"fill\":{\"color\":\"#C8D4E3\"},\"line\":{\"color\":\"white\"}},\"type\":\"table\"}],\"barpolar\":[{\"marker\":{\"line\":{\"color\":\"#E5ECF6\",\"width\":0.5},\"pattern\":{\"fillmode\":\"overlay\",\"size\":10,\"solidity\":0.2}},\"type\":\"barpolar\"}],\"pie\":[{\"automargin\":true,\"type\":\"pie\"}]},\"layout\":{\"autotypenumbers\":\"strict\",\"colorway\":[\"#636efa\",\"#EF553B\",\"#00cc96\",\"#ab63fa\",\"#FFA15A\",\"#19d3f3\",\"#FF6692\",\"#B6E880\",\"#FF97FF\",\"#FECB52\"],\"font\":{\"color\":\"#2a3f5f\"},\"hovermode\":\"closest\",\"hoverlabel\":{\"align\":\"left\"},\"paper_bgcolor\":\"white\",\"plot_bgcolor\":\"#E5ECF6\",\"polar\":{\"bgcolor\":\"#E5ECF6\",\"angularaxis\":{\"gridcolor\":\"white\",\"linecolor\":\"white\",\"ticks\":\"\"},\"radialaxis\":{\"gridcolor\":\"white\",\"linecolor\":\"white\",\"ticks\":\"\"}},\"ternary\":{\"bgcolor\":\"#E5ECF6\",\"aaxis\":{\"gridcolor\":\"white\",\"linecolor\":\"white\",\"ticks\":\"\"},\"baxis\":{\"gridcolor\":\"white\",\"linecolor\":\"white\",\"ticks\":\"\"},\"caxis\":{\"gridcolor\":\"white\",\"linecolor\":\"white\",\"ticks\":\"\"}},\"coloraxis\":{\"colorbar\":{\"outlinewidth\":0,\"ticks\":\"\"}},\"colorscale\":{\"sequential\":[[0.0,\"#0d0887\"],[0.1111111111111111,\"#46039f\"],[0.2222222222222222,\"#7201a8\"],[0.3333333333333333,\"#9c179e\"],[0.4444444444444444,\"#bd3786\"],[0.5555555555555556,\"#d8576b\"],[0.6666666666666666,\"#ed7953\"],[0.7777777777777778,\"#fb9f3a\"],[0.8888888888888888,\"#fdca26\"],[1.0,\"#f0f921\"]],\"sequentialminus\":[[0.0,\"#0d0887\"],[0.1111111111111111,\"#46039f\"],[0.2222222222222222,\"#7201a8\"],[0.3333333333333333,\"#9c179e\"],[0.4444444444444444,\"#bd3786\"],[0.5555555555555556,\"#d8576b\"],[0.6666666666666666,\"#ed7953\"],[0.7777777777777778,\"#fb9f3a\"],[0.8888888888888888,\"#fdca26\"],[1.0,\"#f0f921\"]],\"diverging\":[[0,\"#8e0152\"],[0.1,\"#c51b7d\"],[0.2,\"#de77ae\"],[0.3,\"#f1b6da\"],[0.4,\"#fde0ef\"],[0.5,\"#f7f7f7\"],[0.6,\"#e6f5d0\"],[0.7,\"#b8e186\"],[0.8,\"#7fbc41\"],[0.9,\"#4d9221\"],[1,\"#276419\"]]},\"xaxis\":{\"gridcolor\":\"white\",\"linecolor\":\"white\",\"ticks\":\"\",\"title\":{\"standoff\":15},\"zerolinecolor\":\"white\",\"automargin\":true,\"zerolinewidth\":2},\"yaxis\":{\"gridcolor\":\"white\",\"linecolor\":\"white\",\"ticks\":\"\",\"title\":{\"standoff\":15},\"zerolinecolor\":\"white\",\"automargin\":true,\"zerolinewidth\":2},\"scene\":{\"xaxis\":{\"backgroundcolor\":\"#E5ECF6\",\"gridcolor\":\"white\",\"linecolor\":\"white\",\"showbackground\":true,\"ticks\":\"\",\"zerolinecolor\":\"white\",\"gridwidth\":2},\"yaxis\":{\"backgroundcolor\":\"#E5ECF6\",\"gridcolor\":\"white\",\"linecolor\":\"white\",\"showbackground\":true,\"ticks\":\"\",\"zerolinecolor\":\"white\",\"gridwidth\":2},\"zaxis\":{\"backgroundcolor\":\"#E5ECF6\",\"gridcolor\":\"white\",\"linecolor\":\"white\",\"showbackground\":true,\"ticks\":\"\",\"zerolinecolor\":\"white\",\"gridwidth\":2}},\"shapedefaults\":{\"line\":{\"color\":\"#2a3f5f\"}},\"annotationdefaults\":{\"arrowcolor\":\"#2a3f5f\",\"arrowhead\":0,\"arrowwidth\":1},\"geo\":{\"bgcolor\":\"white\",\"landcolor\":\"#E5ECF6\",\"subunitcolor\":\"white\",\"showland\":true,\"showlakes\":true,\"lakecolor\":\"white\"},\"title\":{\"x\":0.05},\"mapbox\":{\"style\":\"light\"}}},\"xaxis\":{\"anchor\":\"y\",\"domain\":[0.0,1.0],\"title\":{\"text\":\"timestamp\"}},\"yaxis\":{\"anchor\":\"x\",\"domain\":[0.0,1.0],\"title\":{\"text\":\"count\"},\"range\":[0,8]},\"legend\":{\"tracegroupgap\":0},\"margin\":{\"t\":60}},                        {\"responsive\": true}                    ).then(function(){\n",
       "                            \n",
       "var gd = document.getElementById('7c7f5838-c17c-45dd-9aaa-dd6e87358fe0');\n",
       "var x = new MutationObserver(function (mutations, observer) {{\n",
       "        var display = window.getComputedStyle(gd).display;\n",
       "        if (!display || display === 'none') {{\n",
       "            console.log([gd, 'removed!']);\n",
       "            Plotly.purge(gd);\n",
       "            observer.disconnect();\n",
       "        }}\n",
       "}});\n",
       "\n",
       "// Listen for the removal of the full notebook cells\n",
       "var notebookContainer = gd.closest('#notebook-container');\n",
       "if (notebookContainer) {{\n",
       "    x.observe(notebookContainer, {childList: true});\n",
       "}}\n",
       "\n",
       "// Listen for the clearing of the current output cell\n",
       "var outputEl = gd.closest('.output');\n",
       "if (outputEl) {{\n",
       "    x.observe(outputEl, {childList: true});\n",
       "}}\n",
       "\n",
       "                        })                };                });            </script>        </div>"
      ]
     },
     "metadata": {},
     "output_type": "display_data"
    }
   ],
   "source": [
    "px.line(checked_out, x=\"timestamp\", y=\"count\", range_y=[0, 8])"
   ]
  },
  {
   "cell_type": "markdown",
   "id": "beddaa41-5321-4fe8-8b2d-f57d347db38d",
   "metadata": {},
   "source": [
    "### Calculate the time each customer spent in the market"
   ]
  },
  {
   "cell_type": "code",
   "execution_count": 179,
   "id": "3f1b9788-1e14-444b-b463-c382ce02db95",
   "metadata": {},
   "outputs": [
    {
     "data": {
      "text/plain": [
       "Index(['index', 'timestamp', 'customer_no', 'location', 'day'], dtype='object')"
      ]
     },
     "execution_count": 179,
     "metadata": {},
     "output_type": "execute_result"
    }
   ],
   "source": [
    "week = pd.concat(frames).reset_index()\n",
    "week.columns"
   ]
  },
  {
   "cell_type": "code",
   "execution_count": 180,
   "id": "cf085172-940c-4310-8281-674b10f2f0fe",
   "metadata": {},
   "outputs": [
    {
     "data": {
      "text/html": [
       "<div>\n",
       "<style scoped>\n",
       "    .dataframe tbody tr th:only-of-type {\n",
       "        vertical-align: middle;\n",
       "    }\n",
       "\n",
       "    .dataframe tbody tr th {\n",
       "        vertical-align: top;\n",
       "    }\n",
       "\n",
       "    .dataframe thead th {\n",
       "        text-align: right;\n",
       "    }\n",
       "</style>\n",
       "<table border=\"1\" class=\"dataframe\">\n",
       "  <thead>\n",
       "    <tr style=\"text-align: right;\">\n",
       "      <th></th>\n",
       "      <th>index</th>\n",
       "      <th>timestamp</th>\n",
       "      <th>customer_no</th>\n",
       "      <th>location</th>\n",
       "      <th>day</th>\n",
       "    </tr>\n",
       "  </thead>\n",
       "  <tbody>\n",
       "    <tr>\n",
       "      <th>0</th>\n",
       "      <td>0</td>\n",
       "      <td>2019-09-02 07:03:00</td>\n",
       "      <td>1</td>\n",
       "      <td>dairy</td>\n",
       "      <td>monday</td>\n",
       "    </tr>\n",
       "    <tr>\n",
       "      <th>1</th>\n",
       "      <td>1</td>\n",
       "      <td>2019-09-02 07:03:00</td>\n",
       "      <td>2</td>\n",
       "      <td>dairy</td>\n",
       "      <td>monday</td>\n",
       "    </tr>\n",
       "    <tr>\n",
       "      <th>2</th>\n",
       "      <td>2</td>\n",
       "      <td>2019-09-02 07:04:00</td>\n",
       "      <td>3</td>\n",
       "      <td>dairy</td>\n",
       "      <td>monday</td>\n",
       "    </tr>\n",
       "    <tr>\n",
       "      <th>3</th>\n",
       "      <td>3</td>\n",
       "      <td>2019-09-02 07:04:00</td>\n",
       "      <td>4</td>\n",
       "      <td>dairy</td>\n",
       "      <td>monday</td>\n",
       "    </tr>\n",
       "    <tr>\n",
       "      <th>4</th>\n",
       "      <td>4</td>\n",
       "      <td>2019-09-02 07:04:00</td>\n",
       "      <td>5</td>\n",
       "      <td>spices</td>\n",
       "      <td>monday</td>\n",
       "    </tr>\n",
       "    <tr>\n",
       "      <th>...</th>\n",
       "      <td>...</td>\n",
       "      <td>...</td>\n",
       "      <td>...</td>\n",
       "      <td>...</td>\n",
       "      <td>...</td>\n",
       "    </tr>\n",
       "    <tr>\n",
       "      <th>24872</th>\n",
       "      <td>5120</td>\n",
       "      <td>2019-09-06 21:50:00</td>\n",
       "      <td>1500</td>\n",
       "      <td>dairy</td>\n",
       "      <td>friday</td>\n",
       "    </tr>\n",
       "    <tr>\n",
       "      <th>24873</th>\n",
       "      <td>5121</td>\n",
       "      <td>2019-09-06 21:50:00</td>\n",
       "      <td>1507</td>\n",
       "      <td>checkout</td>\n",
       "      <td>friday</td>\n",
       "    </tr>\n",
       "    <tr>\n",
       "      <th>24874</th>\n",
       "      <td>5122</td>\n",
       "      <td>2019-09-06 21:50:00</td>\n",
       "      <td>1508</td>\n",
       "      <td>checkout</td>\n",
       "      <td>friday</td>\n",
       "    </tr>\n",
       "    <tr>\n",
       "      <th>24875</th>\n",
       "      <td>5123</td>\n",
       "      <td>2019-09-06 21:50:00</td>\n",
       "      <td>1509</td>\n",
       "      <td>drinks</td>\n",
       "      <td>friday</td>\n",
       "    </tr>\n",
       "    <tr>\n",
       "      <th>24876</th>\n",
       "      <td>5124</td>\n",
       "      <td>2019-09-06 21:50:00</td>\n",
       "      <td>1510</td>\n",
       "      <td>spices</td>\n",
       "      <td>friday</td>\n",
       "    </tr>\n",
       "  </tbody>\n",
       "</table>\n",
       "<p>24877 rows × 5 columns</p>\n",
       "</div>"
      ],
      "text/plain": [
       "       index           timestamp  customer_no  location     day\n",
       "0          0 2019-09-02 07:03:00            1     dairy  monday\n",
       "1          1 2019-09-02 07:03:00            2     dairy  monday\n",
       "2          2 2019-09-02 07:04:00            3     dairy  monday\n",
       "3          3 2019-09-02 07:04:00            4     dairy  monday\n",
       "4          4 2019-09-02 07:04:00            5    spices  monday\n",
       "...      ...                 ...          ...       ...     ...\n",
       "24872   5120 2019-09-06 21:50:00         1500     dairy  friday\n",
       "24873   5121 2019-09-06 21:50:00         1507  checkout  friday\n",
       "24874   5122 2019-09-06 21:50:00         1508  checkout  friday\n",
       "24875   5123 2019-09-06 21:50:00         1509    drinks  friday\n",
       "24876   5124 2019-09-06 21:50:00         1510    spices  friday\n",
       "\n",
       "[24877 rows x 5 columns]"
      ]
     },
     "execution_count": 180,
     "metadata": {},
     "output_type": "execute_result"
    }
   ],
   "source": [
    "week"
   ]
  },
  {
   "cell_type": "code",
   "execution_count": 198,
   "id": "514932a8-c0fb-4c4c-a170-0b1373ba8330",
   "metadata": {},
   "outputs": [],
   "source": [
    "customer_time = week.groupby([\"customer_no\", \"day\"])[\"timestamp\"].min().reset_index().rename(columns={\"timestamp\":\"start\"})\n",
    "customer_time[\"end\"] = week.groupby([\"customer_no\", \"day\"])[\"timestamp\"].max().reset_index()[\"timestamp\"]"
   ]
  },
  {
   "cell_type": "code",
   "execution_count": 199,
   "id": "bbdc6dc1-ad97-4817-a30d-51089ee28926",
   "metadata": {},
   "outputs": [],
   "source": [
    "customer_time[\"time spend in min\"] = (customer_time[\"end\"] - customer_time[\"start\"]).dt.seconds/60"
   ]
  },
  {
   "cell_type": "code",
   "execution_count": 200,
   "id": "c13430df-3210-47a5-a01f-29e0df7a0722",
   "metadata": {},
   "outputs": [
    {
     "data": {
      "text/html": [
       "<div>\n",
       "<style scoped>\n",
       "    .dataframe tbody tr th:only-of-type {\n",
       "        vertical-align: middle;\n",
       "    }\n",
       "\n",
       "    .dataframe tbody tr th {\n",
       "        vertical-align: top;\n",
       "    }\n",
       "\n",
       "    .dataframe thead th {\n",
       "        text-align: right;\n",
       "    }\n",
       "</style>\n",
       "<table border=\"1\" class=\"dataframe\">\n",
       "  <thead>\n",
       "    <tr style=\"text-align: right;\">\n",
       "      <th></th>\n",
       "      <th>customer_no</th>\n",
       "      <th>day</th>\n",
       "      <th>start</th>\n",
       "      <th>end</th>\n",
       "      <th>time spend in min</th>\n",
       "    </tr>\n",
       "  </thead>\n",
       "  <tbody>\n",
       "    <tr>\n",
       "      <th>0</th>\n",
       "      <td>1</td>\n",
       "      <td>friday</td>\n",
       "      <td>2019-09-06 07:00:00</td>\n",
       "      <td>2019-09-06 07:05:00</td>\n",
       "      <td>5.0</td>\n",
       "    </tr>\n",
       "    <tr>\n",
       "      <th>1</th>\n",
       "      <td>1</td>\n",
       "      <td>monday</td>\n",
       "      <td>2019-09-02 07:03:00</td>\n",
       "      <td>2019-09-02 07:05:00</td>\n",
       "      <td>2.0</td>\n",
       "    </tr>\n",
       "    <tr>\n",
       "      <th>2</th>\n",
       "      <td>1</td>\n",
       "      <td>thursday</td>\n",
       "      <td>2019-09-05 07:00:00</td>\n",
       "      <td>2019-09-05 07:02:00</td>\n",
       "      <td>2.0</td>\n",
       "    </tr>\n",
       "    <tr>\n",
       "      <th>3</th>\n",
       "      <td>1</td>\n",
       "      <td>tuesday</td>\n",
       "      <td>2019-09-03 07:02:00</td>\n",
       "      <td>2019-09-03 07:12:00</td>\n",
       "      <td>10.0</td>\n",
       "    </tr>\n",
       "    <tr>\n",
       "      <th>4</th>\n",
       "      <td>1</td>\n",
       "      <td>wednesday</td>\n",
       "      <td>2019-09-04 07:00:00</td>\n",
       "      <td>2019-09-04 07:02:00</td>\n",
       "      <td>2.0</td>\n",
       "    </tr>\n",
       "    <tr>\n",
       "      <th>...</th>\n",
       "      <td>...</td>\n",
       "      <td>...</td>\n",
       "      <td>...</td>\n",
       "      <td>...</td>\n",
       "      <td>...</td>\n",
       "    </tr>\n",
       "    <tr>\n",
       "      <th>7440</th>\n",
       "      <td>1531</td>\n",
       "      <td>wednesday</td>\n",
       "      <td>2019-09-04 21:46:00</td>\n",
       "      <td>2019-09-04 21:49:00</td>\n",
       "      <td>3.0</td>\n",
       "    </tr>\n",
       "    <tr>\n",
       "      <th>7441</th>\n",
       "      <td>1532</td>\n",
       "      <td>thursday</td>\n",
       "      <td>2019-09-05 21:48:00</td>\n",
       "      <td>2019-09-05 21:48:00</td>\n",
       "      <td>0.0</td>\n",
       "    </tr>\n",
       "    <tr>\n",
       "      <th>7442</th>\n",
       "      <td>1533</td>\n",
       "      <td>thursday</td>\n",
       "      <td>2019-09-05 21:48:00</td>\n",
       "      <td>2019-09-05 21:48:00</td>\n",
       "      <td>0.0</td>\n",
       "    </tr>\n",
       "    <tr>\n",
       "      <th>7443</th>\n",
       "      <td>1534</td>\n",
       "      <td>thursday</td>\n",
       "      <td>2019-09-05 21:48:00</td>\n",
       "      <td>2019-09-05 21:49:00</td>\n",
       "      <td>1.0</td>\n",
       "    </tr>\n",
       "    <tr>\n",
       "      <th>7444</th>\n",
       "      <td>1535</td>\n",
       "      <td>thursday</td>\n",
       "      <td>2019-09-05 21:48:00</td>\n",
       "      <td>2019-09-05 21:49:00</td>\n",
       "      <td>1.0</td>\n",
       "    </tr>\n",
       "  </tbody>\n",
       "</table>\n",
       "<p>7445 rows × 5 columns</p>\n",
       "</div>"
      ],
      "text/plain": [
       "      customer_no        day               start                 end  \\\n",
       "0               1     friday 2019-09-06 07:00:00 2019-09-06 07:05:00   \n",
       "1               1     monday 2019-09-02 07:03:00 2019-09-02 07:05:00   \n",
       "2               1   thursday 2019-09-05 07:00:00 2019-09-05 07:02:00   \n",
       "3               1    tuesday 2019-09-03 07:02:00 2019-09-03 07:12:00   \n",
       "4               1  wednesday 2019-09-04 07:00:00 2019-09-04 07:02:00   \n",
       "...           ...        ...                 ...                 ...   \n",
       "7440         1531  wednesday 2019-09-04 21:46:00 2019-09-04 21:49:00   \n",
       "7441         1532   thursday 2019-09-05 21:48:00 2019-09-05 21:48:00   \n",
       "7442         1533   thursday 2019-09-05 21:48:00 2019-09-05 21:48:00   \n",
       "7443         1534   thursday 2019-09-05 21:48:00 2019-09-05 21:49:00   \n",
       "7444         1535   thursday 2019-09-05 21:48:00 2019-09-05 21:49:00   \n",
       "\n",
       "      time spend in min  \n",
       "0                   5.0  \n",
       "1                   2.0  \n",
       "2                   2.0  \n",
       "3                  10.0  \n",
       "4                   2.0  \n",
       "...                 ...  \n",
       "7440                3.0  \n",
       "7441                0.0  \n",
       "7442                0.0  \n",
       "7443                1.0  \n",
       "7444                1.0  \n",
       "\n",
       "[7445 rows x 5 columns]"
      ]
     },
     "execution_count": 200,
     "metadata": {},
     "output_type": "execute_result"
    }
   ],
   "source": [
    "customer_time"
   ]
  },
  {
   "cell_type": "code",
   "execution_count": 210,
   "id": "96ec40ed-be59-4020-92c5-5a72583a205f",
   "metadata": {},
   "outputs": [],
   "source": [
    "customer_time[\"total time\"] = customer_time.groupby(\"customer_no\")[\"time spend in min\"].transform(lambda x: sum(x))"
   ]
  },
  {
   "cell_type": "code",
   "execution_count": 211,
   "id": "a620a795-12a3-496f-ae8c-18eb8e4663a8",
   "metadata": {},
   "outputs": [
    {
     "data": {
      "text/html": [
       "<div>\n",
       "<style scoped>\n",
       "    .dataframe tbody tr th:only-of-type {\n",
       "        vertical-align: middle;\n",
       "    }\n",
       "\n",
       "    .dataframe tbody tr th {\n",
       "        vertical-align: top;\n",
       "    }\n",
       "\n",
       "    .dataframe thead th {\n",
       "        text-align: right;\n",
       "    }\n",
       "</style>\n",
       "<table border=\"1\" class=\"dataframe\">\n",
       "  <thead>\n",
       "    <tr style=\"text-align: right;\">\n",
       "      <th></th>\n",
       "      <th>customer_no</th>\n",
       "      <th>day</th>\n",
       "      <th>start</th>\n",
       "      <th>end</th>\n",
       "      <th>time spend in min</th>\n",
       "      <th>total time</th>\n",
       "    </tr>\n",
       "  </thead>\n",
       "  <tbody>\n",
       "    <tr>\n",
       "      <th>0</th>\n",
       "      <td>1</td>\n",
       "      <td>friday</td>\n",
       "      <td>2019-09-06 07:00:00</td>\n",
       "      <td>2019-09-06 07:05:00</td>\n",
       "      <td>5.0</td>\n",
       "      <td>21.0</td>\n",
       "    </tr>\n",
       "    <tr>\n",
       "      <th>1</th>\n",
       "      <td>1</td>\n",
       "      <td>monday</td>\n",
       "      <td>2019-09-02 07:03:00</td>\n",
       "      <td>2019-09-02 07:05:00</td>\n",
       "      <td>2.0</td>\n",
       "      <td>21.0</td>\n",
       "    </tr>\n",
       "    <tr>\n",
       "      <th>2</th>\n",
       "      <td>1</td>\n",
       "      <td>thursday</td>\n",
       "      <td>2019-09-05 07:00:00</td>\n",
       "      <td>2019-09-05 07:02:00</td>\n",
       "      <td>2.0</td>\n",
       "      <td>21.0</td>\n",
       "    </tr>\n",
       "    <tr>\n",
       "      <th>3</th>\n",
       "      <td>1</td>\n",
       "      <td>tuesday</td>\n",
       "      <td>2019-09-03 07:02:00</td>\n",
       "      <td>2019-09-03 07:12:00</td>\n",
       "      <td>10.0</td>\n",
       "      <td>21.0</td>\n",
       "    </tr>\n",
       "    <tr>\n",
       "      <th>4</th>\n",
       "      <td>1</td>\n",
       "      <td>wednesday</td>\n",
       "      <td>2019-09-04 07:00:00</td>\n",
       "      <td>2019-09-04 07:02:00</td>\n",
       "      <td>2.0</td>\n",
       "      <td>21.0</td>\n",
       "    </tr>\n",
       "    <tr>\n",
       "      <th>...</th>\n",
       "      <td>...</td>\n",
       "      <td>...</td>\n",
       "      <td>...</td>\n",
       "      <td>...</td>\n",
       "      <td>...</td>\n",
       "      <td>...</td>\n",
       "    </tr>\n",
       "    <tr>\n",
       "      <th>7440</th>\n",
       "      <td>1531</td>\n",
       "      <td>wednesday</td>\n",
       "      <td>2019-09-04 21:46:00</td>\n",
       "      <td>2019-09-04 21:49:00</td>\n",
       "      <td>3.0</td>\n",
       "      <td>6.0</td>\n",
       "    </tr>\n",
       "    <tr>\n",
       "      <th>7441</th>\n",
       "      <td>1532</td>\n",
       "      <td>thursday</td>\n",
       "      <td>2019-09-05 21:48:00</td>\n",
       "      <td>2019-09-05 21:48:00</td>\n",
       "      <td>0.0</td>\n",
       "      <td>0.0</td>\n",
       "    </tr>\n",
       "    <tr>\n",
       "      <th>7442</th>\n",
       "      <td>1533</td>\n",
       "      <td>thursday</td>\n",
       "      <td>2019-09-05 21:48:00</td>\n",
       "      <td>2019-09-05 21:48:00</td>\n",
       "      <td>0.0</td>\n",
       "      <td>0.0</td>\n",
       "    </tr>\n",
       "    <tr>\n",
       "      <th>7443</th>\n",
       "      <td>1534</td>\n",
       "      <td>thursday</td>\n",
       "      <td>2019-09-05 21:48:00</td>\n",
       "      <td>2019-09-05 21:49:00</td>\n",
       "      <td>1.0</td>\n",
       "      <td>1.0</td>\n",
       "    </tr>\n",
       "    <tr>\n",
       "      <th>7444</th>\n",
       "      <td>1535</td>\n",
       "      <td>thursday</td>\n",
       "      <td>2019-09-05 21:48:00</td>\n",
       "      <td>2019-09-05 21:49:00</td>\n",
       "      <td>1.0</td>\n",
       "      <td>1.0</td>\n",
       "    </tr>\n",
       "  </tbody>\n",
       "</table>\n",
       "<p>7445 rows × 6 columns</p>\n",
       "</div>"
      ],
      "text/plain": [
       "      customer_no        day               start                 end  \\\n",
       "0               1     friday 2019-09-06 07:00:00 2019-09-06 07:05:00   \n",
       "1               1     monday 2019-09-02 07:03:00 2019-09-02 07:05:00   \n",
       "2               1   thursday 2019-09-05 07:00:00 2019-09-05 07:02:00   \n",
       "3               1    tuesday 2019-09-03 07:02:00 2019-09-03 07:12:00   \n",
       "4               1  wednesday 2019-09-04 07:00:00 2019-09-04 07:02:00   \n",
       "...           ...        ...                 ...                 ...   \n",
       "7440         1531  wednesday 2019-09-04 21:46:00 2019-09-04 21:49:00   \n",
       "7441         1532   thursday 2019-09-05 21:48:00 2019-09-05 21:48:00   \n",
       "7442         1533   thursday 2019-09-05 21:48:00 2019-09-05 21:48:00   \n",
       "7443         1534   thursday 2019-09-05 21:48:00 2019-09-05 21:49:00   \n",
       "7444         1535   thursday 2019-09-05 21:48:00 2019-09-05 21:49:00   \n",
       "\n",
       "      time spend in min  total time  \n",
       "0                   5.0        21.0  \n",
       "1                   2.0        21.0  \n",
       "2                   2.0        21.0  \n",
       "3                  10.0        21.0  \n",
       "4                   2.0        21.0  \n",
       "...                 ...         ...  \n",
       "7440                3.0         6.0  \n",
       "7441                0.0         0.0  \n",
       "7442                0.0         0.0  \n",
       "7443                1.0         1.0  \n",
       "7444                1.0         1.0  \n",
       "\n",
       "[7445 rows x 6 columns]"
      ]
     },
     "execution_count": 211,
     "metadata": {},
     "output_type": "execute_result"
    }
   ],
   "source": [
    "customer_time"
   ]
  },
  {
   "cell_type": "code",
   "execution_count": 216,
   "id": "97167403-5b86-4fde-bd66-b3b57498eb73",
   "metadata": {},
   "outputs": [],
   "source": [
    "week[\"time spend in min\"] = week.groupby([\"customer_no\", \"day\"])[\"timestamp\"].transform(lambda x: max(x) - min(x)).dt.seconds/60"
   ]
  },
  {
   "cell_type": "markdown",
   "id": "efbb5f46-ee07-4c05-8660-14a4345cc74d",
   "metadata": {},
   "source": [
    "### Calculate the total number of customers in the supermarket over time."
   ]
  },
  {
   "cell_type": "code",
   "execution_count": 249,
   "id": "60f7dc5b-191f-4ef5-b946-8d41a3169f6a",
   "metadata": {},
   "outputs": [
    {
     "data": {
      "text/html": [
       "<div>\n",
       "<style scoped>\n",
       "    .dataframe tbody tr th:only-of-type {\n",
       "        vertical-align: middle;\n",
       "    }\n",
       "\n",
       "    .dataframe tbody tr th {\n",
       "        vertical-align: top;\n",
       "    }\n",
       "\n",
       "    .dataframe thead th {\n",
       "        text-align: right;\n",
       "    }\n",
       "</style>\n",
       "<table border=\"1\" class=\"dataframe\">\n",
       "  <thead>\n",
       "    <tr style=\"text-align: right;\">\n",
       "      <th></th>\n",
       "      <th>customer_no</th>\n",
       "      <th>day</th>\n",
       "      <th>start</th>\n",
       "      <th>end</th>\n",
       "      <th>time spend in min</th>\n",
       "      <th>total time</th>\n",
       "    </tr>\n",
       "  </thead>\n",
       "  <tbody>\n",
       "    <tr>\n",
       "      <th>0</th>\n",
       "      <td>1</td>\n",
       "      <td>friday</td>\n",
       "      <td>2019-09-06 07:00:00</td>\n",
       "      <td>2019-09-06 07:05:00</td>\n",
       "      <td>5.0</td>\n",
       "      <td>21.0</td>\n",
       "    </tr>\n",
       "    <tr>\n",
       "      <th>1</th>\n",
       "      <td>1</td>\n",
       "      <td>monday</td>\n",
       "      <td>2019-09-02 07:03:00</td>\n",
       "      <td>2019-09-02 07:05:00</td>\n",
       "      <td>2.0</td>\n",
       "      <td>21.0</td>\n",
       "    </tr>\n",
       "    <tr>\n",
       "      <th>2</th>\n",
       "      <td>1</td>\n",
       "      <td>thursday</td>\n",
       "      <td>2019-09-05 07:00:00</td>\n",
       "      <td>2019-09-05 07:02:00</td>\n",
       "      <td>2.0</td>\n",
       "      <td>21.0</td>\n",
       "    </tr>\n",
       "    <tr>\n",
       "      <th>3</th>\n",
       "      <td>1</td>\n",
       "      <td>tuesday</td>\n",
       "      <td>2019-09-03 07:02:00</td>\n",
       "      <td>2019-09-03 07:12:00</td>\n",
       "      <td>10.0</td>\n",
       "      <td>21.0</td>\n",
       "    </tr>\n",
       "    <tr>\n",
       "      <th>4</th>\n",
       "      <td>1</td>\n",
       "      <td>wednesday</td>\n",
       "      <td>2019-09-04 07:00:00</td>\n",
       "      <td>2019-09-04 07:02:00</td>\n",
       "      <td>2.0</td>\n",
       "      <td>21.0</td>\n",
       "    </tr>\n",
       "    <tr>\n",
       "      <th>...</th>\n",
       "      <td>...</td>\n",
       "      <td>...</td>\n",
       "      <td>...</td>\n",
       "      <td>...</td>\n",
       "      <td>...</td>\n",
       "      <td>...</td>\n",
       "    </tr>\n",
       "    <tr>\n",
       "      <th>7440</th>\n",
       "      <td>1531</td>\n",
       "      <td>wednesday</td>\n",
       "      <td>2019-09-04 21:46:00</td>\n",
       "      <td>2019-09-04 21:49:00</td>\n",
       "      <td>3.0</td>\n",
       "      <td>6.0</td>\n",
       "    </tr>\n",
       "    <tr>\n",
       "      <th>7441</th>\n",
       "      <td>1532</td>\n",
       "      <td>thursday</td>\n",
       "      <td>2019-09-05 21:48:00</td>\n",
       "      <td>2019-09-05 21:48:00</td>\n",
       "      <td>0.0</td>\n",
       "      <td>0.0</td>\n",
       "    </tr>\n",
       "    <tr>\n",
       "      <th>7442</th>\n",
       "      <td>1533</td>\n",
       "      <td>thursday</td>\n",
       "      <td>2019-09-05 21:48:00</td>\n",
       "      <td>2019-09-05 21:48:00</td>\n",
       "      <td>0.0</td>\n",
       "      <td>0.0</td>\n",
       "    </tr>\n",
       "    <tr>\n",
       "      <th>7443</th>\n",
       "      <td>1534</td>\n",
       "      <td>thursday</td>\n",
       "      <td>2019-09-05 21:48:00</td>\n",
       "      <td>2019-09-05 21:49:00</td>\n",
       "      <td>1.0</td>\n",
       "      <td>1.0</td>\n",
       "    </tr>\n",
       "    <tr>\n",
       "      <th>7444</th>\n",
       "      <td>1535</td>\n",
       "      <td>thursday</td>\n",
       "      <td>2019-09-05 21:48:00</td>\n",
       "      <td>2019-09-05 21:49:00</td>\n",
       "      <td>1.0</td>\n",
       "      <td>1.0</td>\n",
       "    </tr>\n",
       "  </tbody>\n",
       "</table>\n",
       "<p>7445 rows × 6 columns</p>\n",
       "</div>"
      ],
      "text/plain": [
       "      customer_no        day               start                 end  \\\n",
       "0               1     friday 2019-09-06 07:00:00 2019-09-06 07:05:00   \n",
       "1               1     monday 2019-09-02 07:03:00 2019-09-02 07:05:00   \n",
       "2               1   thursday 2019-09-05 07:00:00 2019-09-05 07:02:00   \n",
       "3               1    tuesday 2019-09-03 07:02:00 2019-09-03 07:12:00   \n",
       "4               1  wednesday 2019-09-04 07:00:00 2019-09-04 07:02:00   \n",
       "...           ...        ...                 ...                 ...   \n",
       "7440         1531  wednesday 2019-09-04 21:46:00 2019-09-04 21:49:00   \n",
       "7441         1532   thursday 2019-09-05 21:48:00 2019-09-05 21:48:00   \n",
       "7442         1533   thursday 2019-09-05 21:48:00 2019-09-05 21:48:00   \n",
       "7443         1534   thursday 2019-09-05 21:48:00 2019-09-05 21:49:00   \n",
       "7444         1535   thursday 2019-09-05 21:48:00 2019-09-05 21:49:00   \n",
       "\n",
       "      time spend in min  total time  \n",
       "0                   5.0        21.0  \n",
       "1                   2.0        21.0  \n",
       "2                   2.0        21.0  \n",
       "3                  10.0        21.0  \n",
       "4                   2.0        21.0  \n",
       "...                 ...         ...  \n",
       "7440                3.0         6.0  \n",
       "7441                0.0         0.0  \n",
       "7442                0.0         0.0  \n",
       "7443                1.0         1.0  \n",
       "7444                1.0         1.0  \n",
       "\n",
       "[7445 rows x 6 columns]"
      ]
     },
     "execution_count": 249,
     "metadata": {},
     "output_type": "execute_result"
    }
   ],
   "source": [
    "customer_time"
   ]
  },
  {
   "cell_type": "code",
   "execution_count": 250,
   "id": "76baad1e-a6b5-4cd5-88c1-5e491b07e1f4",
   "metadata": {},
   "outputs": [
    {
     "data": {
      "text/plain": [
       "1.0     1293\n",
       "2.0     1004\n",
       "3.0      822\n",
       "4.0      695\n",
       "5.0      579\n",
       "6.0      499\n",
       "7.0      446\n",
       "8.0      290\n",
       "9.0      260\n",
       "10.0     246\n",
       "11.0     182\n",
       "12.0     173\n",
       "13.0     148\n",
       "14.0     116\n",
       "15.0     102\n",
       "16.0      85\n",
       "17.0      73\n",
       "18.0      69\n",
       "19.0      54\n",
       "20.0      47\n",
       "21.0      45\n",
       "23.0      31\n",
       "22.0      29\n",
       "24.0      21\n",
       "25.0      18\n",
       "29.0      14\n",
       "28.0      12\n",
       "26.0      12\n",
       "0.0        9\n",
       "32.0       8\n",
       "31.0       8\n",
       "30.0       8\n",
       "27.0       7\n",
       "33.0       6\n",
       "35.0       6\n",
       "37.0       5\n",
       "39.0       4\n",
       "34.0       3\n",
       "46.0       2\n",
       "41.0       2\n",
       "51.0       2\n",
       "45.0       2\n",
       "40.0       2\n",
       "52.0       2\n",
       "38.0       1\n",
       "43.0       1\n",
       "47.0       1\n",
       "49.0       1\n",
       "Name: time spend in min, dtype: int64"
      ]
     },
     "execution_count": 250,
     "metadata": {},
     "output_type": "execute_result"
    }
   ],
   "source": [
    "customer_time[\"time spend in min\"].value_counts()"
   ]
  },
  {
   "cell_type": "code",
   "execution_count": null,
   "id": "5a16749e-9d12-401a-bb38-caf5949bc01d",
   "metadata": {},
   "outputs": [],
   "source": []
  }
 ],
 "metadata": {
  "kernelspec": {
   "display_name": "Python 3",
   "language": "python",
   "name": "python3"
  },
  "language_info": {
   "codemirror_mode": {
    "name": "ipython",
    "version": 3
   },
   "file_extension": ".py",
   "mimetype": "text/x-python",
   "name": "python",
   "nbconvert_exporter": "python",
   "pygments_lexer": "ipython3",
   "version": "3.8.8"
  }
 },
 "nbformat": 4,
 "nbformat_minor": 5
}
